{
 "cells": [
  {
   "cell_type": "code",
   "execution_count": 1,
   "metadata": {
    "collapsed": true
   },
   "outputs": [],
   "source": [
    "from headers.classTrial import Trial\n",
    "import mne\n",
    "import numpy as np\n",
    "import matplotlib.pyplot as plt"
   ]
  },
  {
   "cell_type": "code",
   "execution_count": 2,
   "metadata": {
    "collapsed": true
   },
   "outputs": [],
   "source": [
    "%matplotlib qt"
   ]
  },
  {
   "cell_type": "code",
   "execution_count": 3,
   "metadata": {
    "collapsed": true
   },
   "outputs": [],
   "source": [
    "trialList = [Trial(1,i) for i in range(1,9)]"
   ]
  },
  {
   "cell_type": "code",
   "execution_count": 4,
   "metadata": {
    "collapsed": true
   },
   "outputs": [],
   "source": [
    "for triID in range(8):\n",
    "    trialList[triID].readImpedance()\n",
    "    trialList[triID].readChannelLocation()"
   ]
  },
  {
   "cell_type": "code",
   "execution_count": 62,
   "metadata": {
    "collapsed": true
   },
   "outputs": [],
   "source": [
    "fig, axarr = plt.subplots(2,4,figsize=(8,3.8))"
   ]
  },
  {
   "cell_type": "code",
   "execution_count": 63,
   "metadata": {
    "collapsed": true
   },
   "outputs": [],
   "source": [
    "for i in range(0,4):\n",
    "    triID = i*2\n",
    "    if type(trialList[triID].impedanceBefore) != int:\n",
    "        mne.viz.plot_topomap(trialList[triID].impedanceBefore, trialList[triID].info,\n",
    "                         contours=0, cmap='hot_r', vmin=0, vmax=60, axes=axarr[0, i])\n",
    "    else:\n",
    "        axarr[1,i].set_frame_on(False)\n",
    "        axarr[1,i].tick_params(axis='y',which='both',left='off',labelleft='off')\n",
    "        axarr[1,i].tick_params(axis='x',which='both',bottom='off',labelbottom='off')\n",
    "    if type(trialList[triID].impedanceAfter) != int:\n",
    "        fh, _ = mne.viz.plot_topomap(trialList[triID].impedanceAfter, trialList[triID].info,\n",
    "                         contours=0, cmap='hot_r', vmin=0, vmax=60, axes=axarr[1, i])\n",
    "    else:\n",
    "        axarr[1,i].set_frame_on(False)\n",
    "        axarr[1,i].tick_params(axis='y',which='both',left='off',labelleft='off')\n",
    "        axarr[1,i].tick_params(axis='x',which='both',bottom='off',labelbottom='off')"
   ]
  },
  {
   "cell_type": "code",
   "execution_count": 64,
   "metadata": {
    "scrolled": true
   },
   "outputs": [
    {
     "data": {
      "text/plain": [
       "<matplotlib.text.Text at 0x1d3815d0>"
      ]
     },
     "execution_count": 64,
     "metadata": {},
     "output_type": "execute_result"
    }
   ],
   "source": [
    "axarr[0,0].set_ylabel('Pre-',fontsize=11, fontweight='bold')\n",
    "axarr[1,0].set_ylabel('Post-', fontsize=11, fontweight='bold')\n",
    "\n",
    "axarr[0,0].set_title('Day 1', fontsize=11, fontweight='bold')\n",
    "axarr[0,1].set_title('Day 2', fontsize=11, fontweight='bold')\n",
    "axarr[0,2].set_title('Day 3', fontsize=11, fontweight='bold')\n",
    "axarr[0,3].set_title('Day 4', fontsize=11, fontweight='bold')"
   ]
  },
  {
   "cell_type": "code",
   "execution_count": 65,
   "metadata": {
    "collapsed": true
   },
   "outputs": [],
   "source": [
    "fig.subplots_adjust(hspace=0, wspace=0.1)"
   ]
  },
  {
   "cell_type": "code",
   "execution_count": 66,
   "metadata": {},
   "outputs": [],
   "source": [
    "cb_axes=fig.add_axes([0.90,0.35,0.015,0.3])\n",
    "cb_f = plt.colorbar(fh, cax=cb_axes)\n",
    "cb_f.set_label('Impedance (kOhm)')"
   ]
  },
  {
   "cell_type": "code",
   "execution_count": 68,
   "metadata": {},
   "outputs": [],
   "source": [
    "plt.savefig('Figures/all_impedance.png',dpi=300,pad_inches=0, transparent=True)"
   ]
  },
  {
   "cell_type": "code",
   "execution_count": null,
   "metadata": {
    "collapsed": true
   },
   "outputs": [],
   "source": []
  }
 ],
 "metadata": {
  "kernelspec": {
   "display_name": "Python 2",
   "language": "python",
   "name": "python2"
  },
  "language_info": {
   "codemirror_mode": {
    "name": "ipython",
    "version": 2
   },
   "file_extension": ".py",
   "mimetype": "text/x-python",
   "name": "python",
   "nbconvert_exporter": "python",
   "pygments_lexer": "ipython2",
   "version": "2.7.13"
  }
 },
 "nbformat": 4,
 "nbformat_minor": 2
}
