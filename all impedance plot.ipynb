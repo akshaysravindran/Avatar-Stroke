{
 "cells": [
  {
   "cell_type": "code",
   "execution_count": 1,
   "metadata": {},
   "outputs": [
    {
     "name": "stderr",
     "output_type": "stream",
     "text": [
      "c:\\python27\\lib\\site-packages\\statsmodels\\compat\\pandas.py:56: FutureWarning: The pandas.core.datetools module is deprecated and will be removed in a future version. Please use the pandas.tseries module instead.\n",
      "  from pandas.core import datetools\n"
     ]
    }
   ],
   "source": [
    "from asp.load import Trial\n",
    "import mne\n",
    "import numpy as np\n",
    "import matplotlib.pyplot as plt"
   ]
  },
  {
   "cell_type": "code",
   "execution_count": 2,
   "metadata": {
    "collapsed": true
   },
   "outputs": [],
   "source": [
    "%matplotlib qt"
   ]
  },
  {
   "cell_type": "code",
   "execution_count": 7,
   "metadata": {
    "collapsed": true
   },
   "outputs": [],
   "source": [
    "trialList = [Trial(1,i) for i in range(1,9)]"
   ]
  },
  {
   "cell_type": "code",
   "execution_count": 20,
   "metadata": {},
   "outputs": [
    {
     "ename": "ValueError",
     "evalue": "Some errors were detected !\n    Line #69 (got 1 columns instead of 3)\n    Line #70 (got 1 columns instead of 3)\n    Line #71 (got 1 columns instead of 3)\n    Line #72 (got 1 columns instead of 3)\n    Line #73 (got 1 columns instead of 3)\n    Line #74 (got 1 columns instead of 3)\n    Line #75 (got 1 columns instead of 3)\n    Line #76 (got 1 columns instead of 3)\n    Line #77 (got 1 columns instead of 3)\n    Line #78 (got 1 columns instead of 3)\n    Line #79 (got 1 columns instead of 3)\n    Line #80 (got 1 columns instead of 3)\n    Line #81 (got 1 columns instead of 3)\n    Line #82 (got 1 columns instead of 3)\n    Line #83 (got 1 columns instead of 3)\n    Line #84 (got 1 columns instead of 3)\n    Line #85 (got 1 columns instead of 3)\n    Line #86 (got 1 columns instead of 3)\n    Line #87 (got 1 columns instead of 3)\n    Line #88 (got 1 columns instead of 3)\n    Line #89 (got 1 columns instead of 3)\n    Line #90 (got 1 columns instead of 3)\n    Line #91 (got 1 columns instead of 3)\n    Line #92 (got 1 columns instead of 3)\n    Line #93 (got 1 columns instead of 3)\n    Line #94 (got 1 columns instead of 3)\n    Line #95 (got 1 columns instead of 3)\n    Line #96 (got 1 columns instead of 3)\n    Line #97 (got 1 columns instead of 3)\n    Line #98 (got 1 columns instead of 3)\n    Line #99 (got 1 columns instead of 3)\n    Line #100 (got 1 columns instead of 3)\n    Line #101 (got 1 columns instead of 3)\n    Line #102 (got 1 columns instead of 3)\n    Line #103 (got 1 columns instead of 3)\n    Line #104 (got 1 columns instead of 3)\n    Line #105 (got 1 columns instead of 3)\n    Line #106 (got 1 columns instead of 3)\n    Line #107 (got 1 columns instead of 3)\n    Line #108 (got 1 columns instead of 3)\n    Line #109 (got 1 columns instead of 3)\n    Line #110 (got 1 columns instead of 3)\n    Line #111 (got 1 columns instead of 3)\n    Line #112 (got 1 columns instead of 3)\n    Line #113 (got 1 columns instead of 3)\n    Line #114 (got 1 columns instead of 3)\n    Line #115 (got 1 columns instead of 3)\n    Line #116 (got 1 columns instead of 3)\n    Line #117 (got 1 columns instead of 3)\n    Line #118 (got 1 columns instead of 3)\n    Line #119 (got 1 columns instead of 3)\n    Line #120 (got 1 columns instead of 3)\n    Line #121 (got 1 columns instead of 3)\n    Line #122 (got 1 columns instead of 3)\n    Line #123 (got 1 columns instead of 3)\n    Line #124 (got 1 columns instead of 3)\n    Line #125 (got 1 columns instead of 3)\n    Line #126 (got 1 columns instead of 3)\n    Line #127 (got 1 columns instead of 3)\n    Line #128 (got 1 columns instead of 3)\n    Line #129 (got 1 columns instead of 3)\n    Line #130 (got 1 columns instead of 3)",
     "output_type": "error",
     "traceback": [
      "\u001b[1;31m---------------------------------------------------------------------------\u001b[0m",
      "\u001b[1;31mValueError\u001b[0m                                Traceback (most recent call last)",
      "\u001b[1;32m<ipython-input-20-f26b175a8e0d>\u001b[0m in \u001b[0;36m<module>\u001b[1;34m()\u001b[0m\n\u001b[0;32m      1\u001b[0m \u001b[0mk\u001b[0m\u001b[1;33m=\u001b[0m \u001b[1;36m6\u001b[0m\u001b[1;33m\u001b[0m\u001b[0m\n\u001b[1;32m----> 2\u001b[1;33m \u001b[0mtrialList\u001b[0m\u001b[1;33m[\u001b[0m\u001b[0mk\u001b[0m\u001b[1;33m]\u001b[0m\u001b[1;33m.\u001b[0m\u001b[0mreadImpedance\u001b[0m\u001b[1;33m(\u001b[0m\u001b[1;33m)\u001b[0m\u001b[1;33m\u001b[0m\u001b[0m\n\u001b[0m\u001b[0;32m      3\u001b[0m \u001b[0mtrialList\u001b[0m\u001b[1;33m[\u001b[0m\u001b[0mk\u001b[0m\u001b[1;33m]\u001b[0m\u001b[1;33m.\u001b[0m\u001b[0mimpedanceBefore\u001b[0m\u001b[1;33m\u001b[0m\u001b[0m\n",
      "\u001b[1;32mD:\\Dropbox\\Dissertation\\Avatar-Stroke\\asp\\load.pyc\u001b[0m in \u001b[0;36mreadImpedance\u001b[1;34m(self)\u001b[0m\n\u001b[0;32m    120\u001b[0m             \u001b[1;32mif\u001b[0m \u001b[0mf\u001b[0m\u001b[1;33m[\u001b[0m\u001b[1;33m-\u001b[0m\u001b[1;36m9\u001b[0m\u001b[1;33m:\u001b[0m\u001b[1;33m-\u001b[0m\u001b[1;36m4\u001b[0m\u001b[1;33m]\u001b[0m\u001b[1;33m==\u001b[0m\u001b[1;34m'after'\u001b[0m\u001b[1;33m:\u001b[0m\u001b[1;33m\u001b[0m\u001b[0m\n\u001b[0;32m    121\u001b[0m                 \u001b[1;31m# read file and remove 6 non-EEG channels\u001b[0m\u001b[1;33m\u001b[0m\u001b[1;33m\u001b[0m\u001b[0m\n\u001b[1;32m--> 122\u001b[1;33m                 \u001b[0mtempImpedance\u001b[0m \u001b[1;33m=\u001b[0m \u001b[0mnp\u001b[0m\u001b[1;33m.\u001b[0m\u001b[0mdelete\u001b[0m\u001b[1;33m(\u001b[0m\u001b[0mparseImpedance\u001b[0m\u001b[1;33m(\u001b[0m\u001b[0mself\u001b[0m\u001b[1;33m.\u001b[0m\u001b[0mfilePath\u001b[0m\u001b[1;33m+\u001b[0m\u001b[0mf\u001b[0m\u001b[1;33m)\u001b[0m\u001b[1;33m,\u001b[0m \u001b[0mself\u001b[0m\u001b[1;33m.\u001b[0m\u001b[0mimpedanceRemove\u001b[0m\u001b[1;33m-\u001b[0m\u001b[1;36m1\u001b[0m\u001b[1;33m)\u001b[0m\u001b[1;33m\u001b[0m\u001b[0m\n\u001b[0m\u001b[0;32m    123\u001b[0m                 \u001b[1;31m# replace NaN by a big value (60, which is vmax)\u001b[0m\u001b[1;33m\u001b[0m\u001b[1;33m\u001b[0m\u001b[0m\n\u001b[0;32m    124\u001b[0m                 \u001b[0mtempImpedance\u001b[0m\u001b[1;33m[\u001b[0m\u001b[0mnp\u001b[0m\u001b[1;33m.\u001b[0m\u001b[0misnan\u001b[0m\u001b[1;33m(\u001b[0m\u001b[0mtempImpedance\u001b[0m\u001b[1;33m)\u001b[0m\u001b[1;33m]\u001b[0m \u001b[1;33m=\u001b[0m \u001b[1;36m60\u001b[0m\u001b[1;33m\u001b[0m\u001b[0m\n",
      "\u001b[1;32mD:\\Dropbox\\Dissertation\\Avatar-Stroke\\asp\\load.pyc\u001b[0m in \u001b[0;36mparseImpedance\u001b[1;34m(filename)\u001b[0m\n\u001b[0;32m     11\u001b[0m \u001b[1;33m\u001b[0m\u001b[0m\n\u001b[0;32m     12\u001b[0m \u001b[1;32mdef\u001b[0m \u001b[0mparseImpedance\u001b[0m\u001b[1;33m(\u001b[0m\u001b[0mfilename\u001b[0m\u001b[1;33m)\u001b[0m\u001b[1;33m:\u001b[0m\u001b[1;33m\u001b[0m\u001b[0m\n\u001b[1;32m---> 13\u001b[1;33m     \u001b[0mfiledata\u001b[0m \u001b[1;33m=\u001b[0m \u001b[0mnp\u001b[0m\u001b[1;33m.\u001b[0m\u001b[0mgenfromtxt\u001b[0m\u001b[1;33m(\u001b[0m\u001b[0mfilename\u001b[0m\u001b[1;33m,\u001b[0m \u001b[0mskip_header\u001b[0m\u001b[1;33m=\u001b[0m\u001b[1;36m23\u001b[0m\u001b[1;33m,\u001b[0m \u001b[0mcomments\u001b[0m\u001b[1;33m=\u001b[0m\u001b[1;34m'$'\u001b[0m\u001b[1;33m,\u001b[0m \u001b[0mskip_footer\u001b[0m\u001b[1;33m=\u001b[0m\u001b[1;36m2\u001b[0m\u001b[1;33m)\u001b[0m \u001b[1;31m# default comment is # mark, which is used in the file\u001b[0m\u001b[1;33m\u001b[0m\u001b[0m\n\u001b[0m\u001b[0;32m     14\u001b[0m     \u001b[0mfiledata_lastTwoRow\u001b[0m \u001b[1;33m=\u001b[0m \u001b[0mnp\u001b[0m\u001b[1;33m.\u001b[0m\u001b[0mgenfromtxt\u001b[0m\u001b[1;33m(\u001b[0m\u001b[0mfilename\u001b[0m\u001b[1;33m,\u001b[0m \u001b[0mskip_header\u001b[0m\u001b[1;33m=\u001b[0m\u001b[1;36m87\u001b[0m\u001b[1;33m,\u001b[0m \u001b[0mcomments\u001b[0m\u001b[1;33m=\u001b[0m\u001b[1;34m'$'\u001b[0m\u001b[1;33m)\u001b[0m\u001b[1;33m\u001b[0m\u001b[0m\n\u001b[0;32m     15\u001b[0m     \u001b[0mimpedance\u001b[0m \u001b[1;33m=\u001b[0m \u001b[0mnp\u001b[0m\u001b[1;33m.\u001b[0m\u001b[0mconcatenate\u001b[0m\u001b[1;33m(\u001b[0m\u001b[1;33m(\u001b[0m\u001b[0mfiledata\u001b[0m\u001b[1;33m[\u001b[0m\u001b[1;33m:\u001b[0m\u001b[1;33m,\u001b[0m\u001b[1;36m6\u001b[0m\u001b[1;33m]\u001b[0m\u001b[1;33m,\u001b[0m \u001b[0mfiledata_lastTwoRow\u001b[0m\u001b[1;33m[\u001b[0m\u001b[1;33m:\u001b[0m\u001b[1;33m,\u001b[0m\u001b[1;36m4\u001b[0m\u001b[1;33m]\u001b[0m\u001b[1;33m)\u001b[0m\u001b[1;33m,\u001b[0m\u001b[0maxis\u001b[0m\u001b[1;33m=\u001b[0m\u001b[1;36m0\u001b[0m\u001b[1;33m)\u001b[0m\u001b[1;33m\u001b[0m\u001b[0m\n",
      "\u001b[1;32mc:\\python27\\lib\\site-packages\\numpy\\lib\\npyio.pyc\u001b[0m in \u001b[0;36mgenfromtxt\u001b[1;34m(fname, dtype, comments, delimiter, skip_header, skip_footer, converters, missing_values, filling_values, usecols, names, excludelist, deletechars, replace_space, autostrip, case_sensitive, defaultfmt, unpack, usemask, loose, invalid_raise, max_rows)\u001b[0m\n\u001b[0;32m   1865\u001b[0m             \u001b[1;31m# Raise an exception ?\u001b[0m\u001b[1;33m\u001b[0m\u001b[1;33m\u001b[0m\u001b[0m\n\u001b[0;32m   1866\u001b[0m             \u001b[1;32mif\u001b[0m \u001b[0minvalid_raise\u001b[0m\u001b[1;33m:\u001b[0m\u001b[1;33m\u001b[0m\u001b[0m\n\u001b[1;32m-> 1867\u001b[1;33m                 \u001b[1;32mraise\u001b[0m \u001b[0mValueError\u001b[0m\u001b[1;33m(\u001b[0m\u001b[0merrmsg\u001b[0m\u001b[1;33m)\u001b[0m\u001b[1;33m\u001b[0m\u001b[0m\n\u001b[0m\u001b[0;32m   1868\u001b[0m             \u001b[1;31m# Issue a warning ?\u001b[0m\u001b[1;33m\u001b[0m\u001b[1;33m\u001b[0m\u001b[0m\n\u001b[0;32m   1869\u001b[0m             \u001b[1;32melse\u001b[0m\u001b[1;33m:\u001b[0m\u001b[1;33m\u001b[0m\u001b[0m\n",
      "\u001b[1;31mValueError\u001b[0m: Some errors were detected !\n    Line #69 (got 1 columns instead of 3)\n    Line #70 (got 1 columns instead of 3)\n    Line #71 (got 1 columns instead of 3)\n    Line #72 (got 1 columns instead of 3)\n    Line #73 (got 1 columns instead of 3)\n    Line #74 (got 1 columns instead of 3)\n    Line #75 (got 1 columns instead of 3)\n    Line #76 (got 1 columns instead of 3)\n    Line #77 (got 1 columns instead of 3)\n    Line #78 (got 1 columns instead of 3)\n    Line #79 (got 1 columns instead of 3)\n    Line #80 (got 1 columns instead of 3)\n    Line #81 (got 1 columns instead of 3)\n    Line #82 (got 1 columns instead of 3)\n    Line #83 (got 1 columns instead of 3)\n    Line #84 (got 1 columns instead of 3)\n    Line #85 (got 1 columns instead of 3)\n    Line #86 (got 1 columns instead of 3)\n    Line #87 (got 1 columns instead of 3)\n    Line #88 (got 1 columns instead of 3)\n    Line #89 (got 1 columns instead of 3)\n    Line #90 (got 1 columns instead of 3)\n    Line #91 (got 1 columns instead of 3)\n    Line #92 (got 1 columns instead of 3)\n    Line #93 (got 1 columns instead of 3)\n    Line #94 (got 1 columns instead of 3)\n    Line #95 (got 1 columns instead of 3)\n    Line #96 (got 1 columns instead of 3)\n    Line #97 (got 1 columns instead of 3)\n    Line #98 (got 1 columns instead of 3)\n    Line #99 (got 1 columns instead of 3)\n    Line #100 (got 1 columns instead of 3)\n    Line #101 (got 1 columns instead of 3)\n    Line #102 (got 1 columns instead of 3)\n    Line #103 (got 1 columns instead of 3)\n    Line #104 (got 1 columns instead of 3)\n    Line #105 (got 1 columns instead of 3)\n    Line #106 (got 1 columns instead of 3)\n    Line #107 (got 1 columns instead of 3)\n    Line #108 (got 1 columns instead of 3)\n    Line #109 (got 1 columns instead of 3)\n    Line #110 (got 1 columns instead of 3)\n    Line #111 (got 1 columns instead of 3)\n    Line #112 (got 1 columns instead of 3)\n    Line #113 (got 1 columns instead of 3)\n    Line #114 (got 1 columns instead of 3)\n    Line #115 (got 1 columns instead of 3)\n    Line #116 (got 1 columns instead of 3)\n    Line #117 (got 1 columns instead of 3)\n    Line #118 (got 1 columns instead of 3)\n    Line #119 (got 1 columns instead of 3)\n    Line #120 (got 1 columns instead of 3)\n    Line #121 (got 1 columns instead of 3)\n    Line #122 (got 1 columns instead of 3)\n    Line #123 (got 1 columns instead of 3)\n    Line #124 (got 1 columns instead of 3)\n    Line #125 (got 1 columns instead of 3)\n    Line #126 (got 1 columns instead of 3)\n    Line #127 (got 1 columns instead of 3)\n    Line #128 (got 1 columns instead of 3)\n    Line #129 (got 1 columns instead of 3)\n    Line #130 (got 1 columns instead of 3)"
     ]
    }
   ],
   "source": [
    "k= 6\n",
    "trialList[k].readImpedance()\n",
    "trialList[k].impedanceBefore"
   ]
  },
  {
   "cell_type": "code",
   "execution_count": 10,
   "metadata": {},
   "outputs": [
    {
     "ename": "ValueError",
     "evalue": "Some errors were detected !\n    Line #69 (got 1 columns instead of 3)\n    Line #70 (got 1 columns instead of 3)\n    Line #71 (got 1 columns instead of 3)\n    Line #72 (got 1 columns instead of 3)\n    Line #73 (got 1 columns instead of 3)\n    Line #74 (got 1 columns instead of 3)\n    Line #75 (got 1 columns instead of 3)\n    Line #76 (got 1 columns instead of 3)\n    Line #77 (got 1 columns instead of 3)\n    Line #78 (got 1 columns instead of 3)\n    Line #79 (got 1 columns instead of 3)\n    Line #80 (got 1 columns instead of 3)\n    Line #81 (got 1 columns instead of 3)\n    Line #82 (got 1 columns instead of 3)\n    Line #83 (got 1 columns instead of 3)\n    Line #84 (got 1 columns instead of 3)\n    Line #85 (got 1 columns instead of 3)\n    Line #86 (got 1 columns instead of 3)\n    Line #87 (got 1 columns instead of 3)\n    Line #88 (got 1 columns instead of 3)\n    Line #89 (got 1 columns instead of 3)\n    Line #90 (got 1 columns instead of 3)\n    Line #91 (got 1 columns instead of 3)\n    Line #92 (got 1 columns instead of 3)\n    Line #93 (got 1 columns instead of 3)\n    Line #94 (got 1 columns instead of 3)\n    Line #95 (got 1 columns instead of 3)\n    Line #96 (got 1 columns instead of 3)\n    Line #97 (got 1 columns instead of 3)\n    Line #98 (got 1 columns instead of 3)\n    Line #99 (got 1 columns instead of 3)\n    Line #100 (got 1 columns instead of 3)\n    Line #101 (got 1 columns instead of 3)\n    Line #102 (got 1 columns instead of 3)\n    Line #103 (got 1 columns instead of 3)\n    Line #104 (got 1 columns instead of 3)\n    Line #105 (got 1 columns instead of 3)\n    Line #106 (got 1 columns instead of 3)\n    Line #107 (got 1 columns instead of 3)\n    Line #108 (got 1 columns instead of 3)\n    Line #109 (got 1 columns instead of 3)\n    Line #110 (got 1 columns instead of 3)\n    Line #111 (got 1 columns instead of 3)\n    Line #112 (got 1 columns instead of 3)\n    Line #113 (got 1 columns instead of 3)\n    Line #114 (got 1 columns instead of 3)\n    Line #115 (got 1 columns instead of 3)\n    Line #116 (got 1 columns instead of 3)\n    Line #117 (got 1 columns instead of 3)\n    Line #118 (got 1 columns instead of 3)\n    Line #119 (got 1 columns instead of 3)\n    Line #120 (got 1 columns instead of 3)\n    Line #121 (got 1 columns instead of 3)\n    Line #122 (got 1 columns instead of 3)\n    Line #123 (got 1 columns instead of 3)\n    Line #124 (got 1 columns instead of 3)\n    Line #125 (got 1 columns instead of 3)\n    Line #126 (got 1 columns instead of 3)\n    Line #127 (got 1 columns instead of 3)\n    Line #128 (got 1 columns instead of 3)\n    Line #129 (got 1 columns instead of 3)\n    Line #130 (got 1 columns instead of 3)",
     "output_type": "error",
     "traceback": [
      "\u001b[1;31m---------------------------------------------------------------------------\u001b[0m",
      "\u001b[1;31mValueError\u001b[0m                                Traceback (most recent call last)",
      "\u001b[1;32m<ipython-input-10-0366442965c0>\u001b[0m in \u001b[0;36m<module>\u001b[1;34m()\u001b[0m\n\u001b[0;32m      1\u001b[0m \u001b[1;32mfor\u001b[0m \u001b[0mtriID\u001b[0m \u001b[1;32min\u001b[0m \u001b[0mrange\u001b[0m\u001b[1;33m(\u001b[0m\u001b[1;36m0\u001b[0m\u001b[1;33m,\u001b[0m\u001b[1;36m8\u001b[0m\u001b[1;33m,\u001b[0m\u001b[1;36m2\u001b[0m\u001b[1;33m)\u001b[0m\u001b[1;33m:\u001b[0m\u001b[1;33m\u001b[0m\u001b[0m\n\u001b[1;32m----> 2\u001b[1;33m     \u001b[0mtrialList\u001b[0m\u001b[1;33m[\u001b[0m\u001b[0mtriID\u001b[0m\u001b[1;33m]\u001b[0m\u001b[1;33m.\u001b[0m\u001b[0mreadImpedance\u001b[0m\u001b[1;33m(\u001b[0m\u001b[1;33m)\u001b[0m\u001b[1;33m\u001b[0m\u001b[0m\n\u001b[0m\u001b[0;32m      3\u001b[0m     \u001b[0mtrialList\u001b[0m\u001b[1;33m[\u001b[0m\u001b[0mtriID\u001b[0m\u001b[1;33m]\u001b[0m\u001b[1;33m.\u001b[0m\u001b[0mreadChannelLocation\u001b[0m\u001b[1;33m(\u001b[0m\u001b[1;33m)\u001b[0m\u001b[1;33m\u001b[0m\u001b[0m\n",
      "\u001b[1;32mD:\\Dropbox\\Dissertation\\Avatar-Stroke\\asp\\load.pyc\u001b[0m in \u001b[0;36mreadImpedance\u001b[1;34m(self)\u001b[0m\n\u001b[0;32m    120\u001b[0m             \u001b[1;32mif\u001b[0m \u001b[0mf\u001b[0m\u001b[1;33m[\u001b[0m\u001b[1;33m-\u001b[0m\u001b[1;36m9\u001b[0m\u001b[1;33m:\u001b[0m\u001b[1;33m-\u001b[0m\u001b[1;36m4\u001b[0m\u001b[1;33m]\u001b[0m\u001b[1;33m==\u001b[0m\u001b[1;34m'after'\u001b[0m\u001b[1;33m:\u001b[0m\u001b[1;33m\u001b[0m\u001b[0m\n\u001b[0;32m    121\u001b[0m                 \u001b[1;31m# read file and remove 6 non-EEG channels\u001b[0m\u001b[1;33m\u001b[0m\u001b[1;33m\u001b[0m\u001b[0m\n\u001b[1;32m--> 122\u001b[1;33m                 \u001b[0mtempImpedance\u001b[0m \u001b[1;33m=\u001b[0m \u001b[0mnp\u001b[0m\u001b[1;33m.\u001b[0m\u001b[0mdelete\u001b[0m\u001b[1;33m(\u001b[0m\u001b[0mparseImpedance\u001b[0m\u001b[1;33m(\u001b[0m\u001b[0mself\u001b[0m\u001b[1;33m.\u001b[0m\u001b[0mfilePath\u001b[0m\u001b[1;33m+\u001b[0m\u001b[0mf\u001b[0m\u001b[1;33m)\u001b[0m\u001b[1;33m,\u001b[0m \u001b[0mself\u001b[0m\u001b[1;33m.\u001b[0m\u001b[0mimpedanceRemove\u001b[0m\u001b[1;33m-\u001b[0m\u001b[1;36m1\u001b[0m\u001b[1;33m)\u001b[0m\u001b[1;33m\u001b[0m\u001b[0m\n\u001b[0m\u001b[0;32m    123\u001b[0m                 \u001b[1;31m# replace NaN by a big value (60, which is vmax)\u001b[0m\u001b[1;33m\u001b[0m\u001b[1;33m\u001b[0m\u001b[0m\n\u001b[0;32m    124\u001b[0m                 \u001b[0mtempImpedance\u001b[0m\u001b[1;33m[\u001b[0m\u001b[0mnp\u001b[0m\u001b[1;33m.\u001b[0m\u001b[0misnan\u001b[0m\u001b[1;33m(\u001b[0m\u001b[0mtempImpedance\u001b[0m\u001b[1;33m)\u001b[0m\u001b[1;33m]\u001b[0m \u001b[1;33m=\u001b[0m \u001b[1;36m60\u001b[0m\u001b[1;33m\u001b[0m\u001b[0m\n",
      "\u001b[1;32mD:\\Dropbox\\Dissertation\\Avatar-Stroke\\asp\\load.pyc\u001b[0m in \u001b[0;36mparseImpedance\u001b[1;34m(filename)\u001b[0m\n\u001b[0;32m     11\u001b[0m \u001b[1;33m\u001b[0m\u001b[0m\n\u001b[0;32m     12\u001b[0m \u001b[1;32mdef\u001b[0m \u001b[0mparseImpedance\u001b[0m\u001b[1;33m(\u001b[0m\u001b[0mfilename\u001b[0m\u001b[1;33m)\u001b[0m\u001b[1;33m:\u001b[0m\u001b[1;33m\u001b[0m\u001b[0m\n\u001b[1;32m---> 13\u001b[1;33m     \u001b[0mfiledata\u001b[0m \u001b[1;33m=\u001b[0m \u001b[0mnp\u001b[0m\u001b[1;33m.\u001b[0m\u001b[0mgenfromtxt\u001b[0m\u001b[1;33m(\u001b[0m\u001b[0mfilename\u001b[0m\u001b[1;33m,\u001b[0m \u001b[0mskip_header\u001b[0m\u001b[1;33m=\u001b[0m\u001b[1;36m23\u001b[0m\u001b[1;33m,\u001b[0m \u001b[0mcomments\u001b[0m\u001b[1;33m=\u001b[0m\u001b[1;34m'$'\u001b[0m\u001b[1;33m,\u001b[0m \u001b[0mskip_footer\u001b[0m\u001b[1;33m=\u001b[0m\u001b[1;36m2\u001b[0m\u001b[1;33m)\u001b[0m \u001b[1;31m# default comment is # mark, which is used in the file\u001b[0m\u001b[1;33m\u001b[0m\u001b[0m\n\u001b[0m\u001b[0;32m     14\u001b[0m     \u001b[0mfiledata_lastTwoRow\u001b[0m \u001b[1;33m=\u001b[0m \u001b[0mnp\u001b[0m\u001b[1;33m.\u001b[0m\u001b[0mgenfromtxt\u001b[0m\u001b[1;33m(\u001b[0m\u001b[0mfilename\u001b[0m\u001b[1;33m,\u001b[0m \u001b[0mskip_header\u001b[0m\u001b[1;33m=\u001b[0m\u001b[1;36m87\u001b[0m\u001b[1;33m,\u001b[0m \u001b[0mcomments\u001b[0m\u001b[1;33m=\u001b[0m\u001b[1;34m'$'\u001b[0m\u001b[1;33m)\u001b[0m\u001b[1;33m\u001b[0m\u001b[0m\n\u001b[0;32m     15\u001b[0m     \u001b[0mimpedance\u001b[0m \u001b[1;33m=\u001b[0m \u001b[0mnp\u001b[0m\u001b[1;33m.\u001b[0m\u001b[0mconcatenate\u001b[0m\u001b[1;33m(\u001b[0m\u001b[1;33m(\u001b[0m\u001b[0mfiledata\u001b[0m\u001b[1;33m[\u001b[0m\u001b[1;33m:\u001b[0m\u001b[1;33m,\u001b[0m\u001b[1;36m6\u001b[0m\u001b[1;33m]\u001b[0m\u001b[1;33m,\u001b[0m \u001b[0mfiledata_lastTwoRow\u001b[0m\u001b[1;33m[\u001b[0m\u001b[1;33m:\u001b[0m\u001b[1;33m,\u001b[0m\u001b[1;36m4\u001b[0m\u001b[1;33m]\u001b[0m\u001b[1;33m)\u001b[0m\u001b[1;33m,\u001b[0m\u001b[0maxis\u001b[0m\u001b[1;33m=\u001b[0m\u001b[1;36m0\u001b[0m\u001b[1;33m)\u001b[0m\u001b[1;33m\u001b[0m\u001b[0m\n",
      "\u001b[1;32mc:\\python27\\lib\\site-packages\\numpy\\lib\\npyio.pyc\u001b[0m in \u001b[0;36mgenfromtxt\u001b[1;34m(fname, dtype, comments, delimiter, skip_header, skip_footer, converters, missing_values, filling_values, usecols, names, excludelist, deletechars, replace_space, autostrip, case_sensitive, defaultfmt, unpack, usemask, loose, invalid_raise, max_rows)\u001b[0m\n\u001b[0;32m   1865\u001b[0m             \u001b[1;31m# Raise an exception ?\u001b[0m\u001b[1;33m\u001b[0m\u001b[1;33m\u001b[0m\u001b[0m\n\u001b[0;32m   1866\u001b[0m             \u001b[1;32mif\u001b[0m \u001b[0minvalid_raise\u001b[0m\u001b[1;33m:\u001b[0m\u001b[1;33m\u001b[0m\u001b[0m\n\u001b[1;32m-> 1867\u001b[1;33m                 \u001b[1;32mraise\u001b[0m \u001b[0mValueError\u001b[0m\u001b[1;33m(\u001b[0m\u001b[0merrmsg\u001b[0m\u001b[1;33m)\u001b[0m\u001b[1;33m\u001b[0m\u001b[0m\n\u001b[0m\u001b[0;32m   1868\u001b[0m             \u001b[1;31m# Issue a warning ?\u001b[0m\u001b[1;33m\u001b[0m\u001b[1;33m\u001b[0m\u001b[0m\n\u001b[0;32m   1869\u001b[0m             \u001b[1;32melse\u001b[0m\u001b[1;33m:\u001b[0m\u001b[1;33m\u001b[0m\u001b[0m\n",
      "\u001b[1;31mValueError\u001b[0m: Some errors were detected !\n    Line #69 (got 1 columns instead of 3)\n    Line #70 (got 1 columns instead of 3)\n    Line #71 (got 1 columns instead of 3)\n    Line #72 (got 1 columns instead of 3)\n    Line #73 (got 1 columns instead of 3)\n    Line #74 (got 1 columns instead of 3)\n    Line #75 (got 1 columns instead of 3)\n    Line #76 (got 1 columns instead of 3)\n    Line #77 (got 1 columns instead of 3)\n    Line #78 (got 1 columns instead of 3)\n    Line #79 (got 1 columns instead of 3)\n    Line #80 (got 1 columns instead of 3)\n    Line #81 (got 1 columns instead of 3)\n    Line #82 (got 1 columns instead of 3)\n    Line #83 (got 1 columns instead of 3)\n    Line #84 (got 1 columns instead of 3)\n    Line #85 (got 1 columns instead of 3)\n    Line #86 (got 1 columns instead of 3)\n    Line #87 (got 1 columns instead of 3)\n    Line #88 (got 1 columns instead of 3)\n    Line #89 (got 1 columns instead of 3)\n    Line #90 (got 1 columns instead of 3)\n    Line #91 (got 1 columns instead of 3)\n    Line #92 (got 1 columns instead of 3)\n    Line #93 (got 1 columns instead of 3)\n    Line #94 (got 1 columns instead of 3)\n    Line #95 (got 1 columns instead of 3)\n    Line #96 (got 1 columns instead of 3)\n    Line #97 (got 1 columns instead of 3)\n    Line #98 (got 1 columns instead of 3)\n    Line #99 (got 1 columns instead of 3)\n    Line #100 (got 1 columns instead of 3)\n    Line #101 (got 1 columns instead of 3)\n    Line #102 (got 1 columns instead of 3)\n    Line #103 (got 1 columns instead of 3)\n    Line #104 (got 1 columns instead of 3)\n    Line #105 (got 1 columns instead of 3)\n    Line #106 (got 1 columns instead of 3)\n    Line #107 (got 1 columns instead of 3)\n    Line #108 (got 1 columns instead of 3)\n    Line #109 (got 1 columns instead of 3)\n    Line #110 (got 1 columns instead of 3)\n    Line #111 (got 1 columns instead of 3)\n    Line #112 (got 1 columns instead of 3)\n    Line #113 (got 1 columns instead of 3)\n    Line #114 (got 1 columns instead of 3)\n    Line #115 (got 1 columns instead of 3)\n    Line #116 (got 1 columns instead of 3)\n    Line #117 (got 1 columns instead of 3)\n    Line #118 (got 1 columns instead of 3)\n    Line #119 (got 1 columns instead of 3)\n    Line #120 (got 1 columns instead of 3)\n    Line #121 (got 1 columns instead of 3)\n    Line #122 (got 1 columns instead of 3)\n    Line #123 (got 1 columns instead of 3)\n    Line #124 (got 1 columns instead of 3)\n    Line #125 (got 1 columns instead of 3)\n    Line #126 (got 1 columns instead of 3)\n    Line #127 (got 1 columns instead of 3)\n    Line #128 (got 1 columns instead of 3)\n    Line #129 (got 1 columns instead of 3)\n    Line #130 (got 1 columns instead of 3)"
     ]
    }
   ],
   "source": [
    "for triID in range(0,8,2):\n",
    "    trialList[triID].readImpedance()\n",
    "    trialList[triID].readChannelLocation()"
   ]
  },
  {
   "cell_type": "code",
   "execution_count": null,
   "metadata": {
    "collapsed": true
   },
   "outputs": [],
   "source": [
    "fig, axarr = plt.subplots(4,4,figsize=(8,8))"
   ]
  },
  {
   "cell_type": "code",
   "execution_count": null,
   "metadata": {
    "collapsed": true
   },
   "outputs": [],
   "source": [
    "for i in range(0,4):\n",
    "    triID = i*2\n",
    "    if type(trialList[triID].impedanceBefore) != int:\n",
    "        mne.viz.plot_topomap(trialList[triID].impedanceBefore, trialList[triID].info,\n",
    "                         contours=0, cmap='hot_r', vmin=0, vmax=60, axes=axarr[0, i])\n",
    "    else:\n",
    "        axarr[1,i].set_frame_on(False)\n",
    "        axarr[1,i].tick_params(axis='y',which='both',left='off',labelleft='off')\n",
    "        axarr[1,i].tick_params(axis='x',which='both',bottom='off',labelbottom='off')\n",
    "    if type(trialList[triID].impedanceAfter) != int:\n",
    "        fh, _ = mne.viz.plot_topomap(trialList[triID].impedanceAfter, trialList[triID].info,\n",
    "                         contours=0, cmap='hot_r', vmin=0, vmax=60, axes=axarr[1, i])\n",
    "    else:\n",
    "        axarr[1,i].set_frame_on(False)\n",
    "        axarr[1,i].tick_params(axis='y',which='both',left='off',labelleft='off')\n",
    "        axarr[1,i].tick_params(axis='x',which='both',bottom='off',labelbottom='off')"
   ]
  },
  {
   "cell_type": "code",
   "execution_count": null,
   "metadata": {
    "collapsed": true
   },
   "outputs": [],
   "source": [
    "for i in range(5,7):\n",
    "    triID = i*2\n",
    "    if type(trialList[triID].impedanceBefore) != int:\n",
    "        mne.viz.plot_topomap(trialList[triID].impedanceBefore, trialList[triID].info,\n",
    "                         contours=0, cmap='hot_r', vmin=0, vmax=60, axes=axarr[2, i])\n",
    "    else:\n",
    "        axarr[2,i].set_frame_on(False)\n",
    "        axarr[2,i].tick_params(axis='y',which='both',left='off',labelleft='off')\n",
    "        axarr[2,i].tick_params(axis='x',which='both',bottom='off',labelbottom='off')\n",
    "    if type(trialList[triID].impedanceAfter) != int:\n",
    "        fh, _ = mne.viz.plot_topomap(trialList[triID].impedanceAfter, trialList[triID].info,\n",
    "                         contours=0, cmap='hot_r', vmin=0, vmax=60, axes=axarr[3, i])\n",
    "    else:\n",
    "        axarr[3,i].set_frame_on(False)\n",
    "        axarr[3,i].tick_params(axis='y',which='both',left='off',labelleft='off')\n",
    "        axarr[3,i].tick_params(axis='x',which='both',bottom='off',labelbottom='off')"
   ]
  },
  {
   "cell_type": "code",
   "execution_count": null,
   "metadata": {
    "collapsed": true
   },
   "outputs": [],
   "source": [
    "axarr[0,0].set_ylabel('Pre-',fontsize=11, fontweight='bold')\n",
    "axarr[1,0].set_ylabel('Post-', fontsize=11, fontweight='bold')\n",
    "\n",
    "axarr[0,0].set_title('Day 1', fontsize=11, fontweight='bold')\n",
    "axarr[0,1].set_title('Day 2', fontsize=11, fontweight='bold')\n",
    "axarr[0,2].set_title('Day 3', fontsize=11, fontweight='bold')\n",
    "axarr[0,3].set_title('Day 4', fontsize=11, fontweight='bold')"
   ]
  },
  {
   "cell_type": "code",
   "execution_count": null,
   "metadata": {
    "collapsed": true
   },
   "outputs": [],
   "source": [
    "fig.subplots_adjust(hspace=0, wspace=0.1)"
   ]
  },
  {
   "cell_type": "code",
   "execution_count": null,
   "metadata": {
    "collapsed": true
   },
   "outputs": [],
   "source": [
    "cb_axes=fig.add_axes([0.90,0.35,0.015,0.3])\n",
    "cb_f = plt.colorbar(fh, cax=cb_axes)\n",
    "cb_f.set_label('Impedance (kOhm)')"
   ]
  },
  {
   "cell_type": "code",
   "execution_count": 68,
   "metadata": {
    "collapsed": true
   },
   "outputs": [],
   "source": [
    "plt.savefig('Figures/all_impedance.png',dpi=300,pad_inches=0, transparent=True)"
   ]
  },
  {
   "cell_type": "code",
   "execution_count": null,
   "metadata": {
    "collapsed": true
   },
   "outputs": [],
   "source": []
  }
 ],
 "metadata": {
  "kernelspec": {
   "display_name": "Python 2",
   "language": "python",
   "name": "python2"
  },
  "language_info": {
   "codemirror_mode": {
    "name": "ipython",
    "version": 2
   },
   "file_extension": ".py",
   "mimetype": "text/x-python",
   "name": "python",
   "nbconvert_exporter": "python",
   "pygments_lexer": "ipython2",
   "version": "2.7.13"
  }
 },
 "nbformat": 4,
 "nbformat_minor": 1
}
