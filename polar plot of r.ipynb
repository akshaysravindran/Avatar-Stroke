{
 "cells": [
  {
   "cell_type": "code",
   "execution_count": 3,
   "metadata": {},
   "outputs": [
    {
     "name": "stderr",
     "output_type": "stream",
     "text": [
      "c:\\python27\\lib\\site-packages\\statsmodels\\compat\\pandas.py:56: FutureWarning: The pandas.core.datetools module is deprecated and will be removed in a future version. Please use the pandas.tseries module instead.\n",
      "  from pandas.core import datetools\n"
     ]
    }
   ],
   "source": [
    "import matplotlib.pyplot as plt\n",
    "import numpy as np\n",
    "import scipy\n",
    "from asp.load import Trial\n",
    "from asp.cutArray import cutArray\n",
    "from scipy import interpolate"
   ]
  },
  {
   "cell_type": "code",
   "execution_count": 4,
   "metadata": {
    "collapsed": true
   },
   "outputs": [],
   "source": [
    "%matplotlib qt"
   ]
  },
  {
   "cell_type": "code",
   "execution_count": 43,
   "metadata": {
    "collapsed": true,
    "scrolled": true
   },
   "outputs": [],
   "source": [
    "totalTrial = 12\n",
    "t = []\n",
    "for trialId in range(1,totalTrial+1):\n",
    "    i = trialId-1\n",
    "    t.append(Trial(1, trialId))\n",
    "    t[i].readDecoder()\n",
    "    t[i].readConductor()\n",
    "    t[i].fitRcurve('knee')\n",
    "    t[i].fitRcurve('hip')\n",
    "    t[i].fitRcurve('ankle')"
   ]
  },
  {
   "cell_type": "code",
   "execution_count": 52,
   "metadata": {
    "collapsed": true
   },
   "outputs": [],
   "source": [
    "maxdeg = 2*np.pi/totalTrial # degree owned by each trial \n",
    "allRcurves = []\n",
    "allDegs = []\n",
    "allBars1 = [] # the degree where a bar will be placed to indicate the brainStart\n",
    "allBars2 = []\n",
    "for i in range(0, len(t)):\n",
    "    # temp_r is hip r value in one trial from tdmStart to brainEnd\n",
    "    temp = cutArray(t[i].rCurveHip, \n",
    "                    (t[i].events['tdmStart']-t[i].events['brainStart'])/60, \n",
    "                    (t[i].events['brainEnd']-t[i].events['brainStart'])/60)\n",
    "    temp_r = temp[:,1]\n",
    "    # temp_deg is the degree on the polar plot\n",
    "    temp_deg = (temp[:,0]-temp[0,0])/(temp[-1,0]-temp[0,0])*maxdeg + maxdeg*i\n",
    "    # temp_bar is the degree where brainStart bar will be plotted\n",
    "    temp_bar1 = (0-temp[0,0])/(temp[-1,0]-temp[0,0])*maxdeg + maxdeg*i\n",
    "    # temp_bar2 is the bars that seperate trials\n",
    "    temp_bar2 = maxdeg*i\n",
    "    \n",
    "    allRcurves.append(temp_r)\n",
    "    allDegs.append(temp_deg)\n",
    "    allBars1.append(temp_bar1)\n",
    "    allBars2.append(temp_bar2)"
   ]
  },
  {
   "cell_type": "code",
   "execution_count": 94,
   "metadata": {},
   "outputs": [
    {
     "data": {
      "text/plain": [
       "[<matplotlib.text.Text at 0x29d5bb10>,\n",
       " <matplotlib.text.Text at 0x29eb8030>,\n",
       " <matplotlib.text.Text at 0x29eb8570>,\n",
       " <matplotlib.text.Text at 0x29eb8ef0>,\n",
       " <matplotlib.text.Text at 0x29ec5190>,\n",
       " <matplotlib.text.Text at 0x29ec5410>,\n",
       " <matplotlib.text.Text at 0x29eaebd0>,\n",
       " <matplotlib.text.Text at 0x29ec5670>,\n",
       " <matplotlib.text.Text at 0x29f04810>,\n",
       " <matplotlib.text.Text at 0x29f04a70>,\n",
       " <matplotlib.text.Text at 0x29f04cd0>,\n",
       " <matplotlib.text.Text at 0x29f04f30>]"
      ]
     },
     "execution_count": 94,
     "metadata": {},
     "output_type": "execute_result"
    }
   ],
   "source": [
    "fig = plt.figure(figsize=(7,5.5))\n",
    "\n",
    "ax = fig.add_subplot(111, projection='polar')\n",
    "\n",
    "for i in range(0, len(t)):\n",
    "    ax.plot(allDegs[i], allRcurves[i],color='#1f77b4')  \n",
    "    ax.plot([allBars1[i],allBars1[i]], [0,0.5],'k--',linewidth=0.3)\n",
    "    ax.plot([allBars2[i],allBars2[i]], [0,0.6],'k',linewidth=0.8)\n",
    "\n",
    "ax.set_rticks([0, 0.3, 0.6])  # less radial ticks\n",
    "ax.set_rmax(0.6)\n",
    "ax.grid(False)\n",
    "ax.set_rlabel_position(90)  # get radial labels away from plotted line\n",
    "ax.set_xticks(np.array(allBars2)+ 2*np.pi/totalTrial/2)\n",
    "xtickLabels = []\n",
    "for i in range(0, len(t)):\n",
    "    xtickLabels.append('Session '+str(i+1))\n",
    "\n",
    "\n",
    "font = {'family' : 'serif',\n",
    "        'weight' : 'normal'\n",
    "#         'size'   : 22\n",
    "       }\n",
    "plt.rc('font', **font)\n",
    "\n",
    "ax.set_xticklabels(xtickLabels, fontname='serif',fontweight='bold')"
   ]
  },
  {
   "cell_type": "code",
   "execution_count": 95,
   "metadata": {
    "collapsed": true
   },
   "outputs": [],
   "source": [
    "plt.savefig('Figures/polar_r_values_SS01.png',dpi=300,pad_inches=0, transparent=True)"
   ]
  }
 ],
 "metadata": {
  "kernelspec": {
   "display_name": "Python 2",
   "language": "python",
   "name": "python2"
  },
  "language_info": {
   "codemirror_mode": {
    "name": "ipython",
    "version": 2
   },
   "file_extension": ".py",
   "mimetype": "text/x-python",
   "name": "python",
   "nbconvert_exporter": "python",
   "pygments_lexer": "ipython2",
   "version": "2.7.13"
  }
 },
 "nbformat": 4,
 "nbformat_minor": 2
}
