{
 "cells": [
  {
   "cell_type": "markdown",
   "metadata": {},
   "source": [
    "# SS02 Day1-8 All Data\n",
    "2017-12-11 "
   ]
  },
  {
   "cell_type": "code",
   "execution_count": 2,
   "metadata": {},
   "outputs": [
    {
     "name": "stderr",
     "output_type": "stream",
     "text": [
      "/Applications/anaconda2/envs/pyqt4_for_ploting/lib/python2.7/site-packages/statsmodels/compat/pandas.py:56: FutureWarning: The pandas.core.datetools module is deprecated and will be removed in a future version. Please use the pandas.tseries module instead.\n",
      "  from pandas.core import datetools\n"
     ]
    }
   ],
   "source": [
    "import matplotlib.pyplot as plt\n",
    "import numpy as np\n",
    "import scipy\n",
    "import statsmodels.api as sm \n",
    "from asp.load import Trial"
   ]
  },
  {
   "cell_type": "code",
   "execution_count": 1,
   "metadata": {},
   "outputs": [],
   "source": [
    "%matplotlib qt"
   ]
  },
  {
   "cell_type": "code",
   "execution_count": 3,
   "metadata": {},
   "outputs": [
    {
     "name": "stderr",
     "output_type": "stream",
     "text": [
      "/Applications/anaconda2/envs/pyqt4_for_ploting/lib/python2.7/site-packages/numpy/lib/function_base.py:3167: RuntimeWarning: invalid value encountered in true_divide\n",
      "  c /= stddev[:, None]\n",
      "/Applications/anaconda2/envs/pyqt4_for_ploting/lib/python2.7/site-packages/numpy/lib/function_base.py:3168: RuntimeWarning: invalid value encountered in true_divide\n",
      "  c /= stddev[None, :]\n"
     ]
    }
   ],
   "source": [
    "totalTrial = 16\n",
    "t = []\n",
    "for trialId in range(1,totalTrial+1):\n",
    "    i = trialId-1\n",
    "    t.append(Trial(2, trialId))\n",
    "    t[i].readDecoder()\n",
    "    t[i].readConductor()\n",
    "    t[i].gaitSegmentation()\n",
    "    t[i].RValueByGaitAllJoint()\n",
    "    t[i].rTrainTestbyGait()"
   ]
  },
  {
   "cell_type": "markdown",
   "metadata": {},
   "source": [
    "### smooth the r values. This is not used anymore "
   ]
  },
  {
   "cell_type": "code",
   "execution_count": 1,
   "metadata": {},
   "outputs": [],
   "source": [
    "# signal = []\n",
    "# for i in range(len(t)):\n",
    "#     signal.append(sm.nonparametric.lowess(t[i].rLeftHipByGait[:,1], t[i].rLeftHipByGait[:,0], frac=0.01))"
   ]
  },
  {
   "cell_type": "markdown",
   "metadata": {},
   "source": [
    "## A figure of all r values in each gait in each trial\n",
    "Each dot is the r-value in one gait cycle"
   ]
  },
  {
   "cell_type": "code",
   "execution_count": 4,
   "metadata": {},
   "outputs": [],
   "source": [
    "joint = 4 # 0: time. 1. right hip. 2: right knee. 3: right ankle. 4: left hip. 5: left knee. 6: left ankle"
   ]
  },
  {
   "cell_type": "code",
   "execution_count": 7,
   "metadata": {},
   "outputs": [],
   "source": [
    "fig, axarr = plt.subplots(len(t)/2,2, figsize=(7,9))\n",
    "# fig.dpi = 200\n",
    "# fig.set_size_inches(600./fig.dpi,800./fig.dpi)\n",
    "\n",
    "for i in range(len(t)):\n",
    "    # remove gaits that were before 30s\n",
    "    firstStep = 0\n",
    "    while t[i].rLeftHipByGait[firstStep,0]<30:\n",
    "        firstStep += 1\n",
    "    \n",
    "    axarr[i/2,i%2].plot(t[i].rAllJointByGait[firstStep:,0], t[i].rAllJointByGait[firstStep:,joint],'.',markersize=2)\n",
    "    axarr[i/2,i%2].set_xlim([0, 1250])\n",
    "    axarr[i/2,i%2].set_ylim([-1,1])\n",
    "    # a vertical line to mark the beginning of EEG control\n",
    "    bciOnset = 630\n",
    "    axarr[i/2,i%2].plot([bciOnset, bciOnset], axarr[i/2,i%2].get_ylim(), 'k-', lw=2)\n",
    "#     axarr[i/2,i%2].autoscale(enable=True, axis='y', tight=True)    \n",
    "    \n",
    "    # remove the frame\n",
    "    axarr[i/2,i%2].spines['top'].set_visible(False)\n",
    "    axarr[i/2,i%2].spines['right'].set_visible(False)\n",
    "    \n",
    "    axarr[i/2,i%2].grid(b=True, which='major', axis='y')\n",
    "    axarr[i/2,i%2].set_ylabel('Trial '+str(i+1), fontsize=9)\n",
    "    if i<len(t)-2: # unless it's the last two figures (on the last row), remove xticks.\n",
    "        axarr[i/2,i%2].set_xticks([])\n",
    "    else:\n",
    "        axarr[i/2,i%2].set_xlabel('Time (sec)')\n",
    "    if i%2==1:\n",
    "        axarr[i/2,i%2].set_yticklabels([])\n",
    "    \n",
    "fig.subplots_adjust(hspace=0.3, wspace=0.24, top=0.95, bottom=0.08, right=0.95)    \n",
    "fig.text(0.01, 0.5, 'Performance (r-value)', va='center', rotation='vertical')\n",
    "\n",
    "fig.show()\n",
    "# fig.savefig('Figures/r_SS02Day1-8.png', dpi=600, format='png', transparent=True)\n",
    "# fig.savefig('Figures/r_SS02Day1-8.eps', dpi=600, format='eps', transparent=True)"
   ]
  },
  {
   "cell_type": "code",
   "execution_count": 46,
   "metadata": {},
   "outputs": [],
   "source": [
    "plt.close('all')"
   ]
  },
  {
   "cell_type": "markdown",
   "metadata": {},
   "source": [
    "## Compare the median r value changes over sessions\n",
    "\n",
    "Day5 Trial2: stopped walking at 860s to fix the lose ankle goniometer connector"
   ]
  },
  {
   "cell_type": "code",
   "execution_count": 10,
   "metadata": {},
   "outputs": [],
   "source": [
    "#     joint = 3 #This variable is also given in the previous plot.\n",
    "\n",
    "rTrainAll = []\n",
    "rTestAll = []\n",
    "color1, color2 = '#2C7BB6', '#D7191C'    # colors are from http://colorbrewer2.org/\n",
    "\n",
    "for i in range(0,len(t)):\n",
    "    rTrainAll.append(t[i].rTrainMedian[joint-1]) # -1 because rTrainMean doesn't have the time column\n",
    "    rTestAll.append(t[i].rTestMedian[joint-1])\n",
    "x = range(1, len(rTrainAll)+1)\n",
    "\n",
    "fig = plt.figure(figsize=(7,5))\n",
    "plt.plot(x, rTrainAll, marker='o',color=color1, linestyle='none', label='Train')\n",
    "plt.plot(x, rTestAll, marker='o', color=color2, markerfacecolor='none', linestyle='none', label='Test')\n",
    "\n",
    "#     if i==0: # for plotting legend\n",
    "#         plt.plot(i+1, rTrainMedian, marker='o',color='darkorange', label='Train', linestyle='none')\n",
    "#         plt.plot(i+1, rTestMedian, marker='o', color='darkorange', markerfacecolor='none',label='Test', linestyle='none')\n",
    "#     else:\n",
    "#         plt.plot(i+1, rTrainMedian, marker='o',color='darkorange', linestyle='none')\n",
    "#         plt.plot(i+1, rTestMedian, marker='o', color='darkorange', markerfacecolor='none', linestyle='none')\n",
    "\n",
    "        \n",
    "slopeTrain, interceptTrain, r_value, p_value, std_err = scipy.stats.linregress(x, rTrainAll)\n",
    "# # # Trial 10 has very bad value because stopped in middle\n",
    "slopeTest, interceptTest, r_value, p_value, std_err = scipy.stats.linregress(x[0:9]+x[10:-1], rTestAll[0:9]+rTestAll[10:-1])\n",
    "\n",
    "# fit line: train\n",
    "x1=1\n",
    "x2=len(t)\n",
    "y1=slopeTrain*x1+interceptTrain\n",
    "y2=slopeTrain*x2+interceptTrain\n",
    "plt.plot([x1,x2],[y1,y2],linewidth=3, color=color1)        \n",
    "# fit line: test\n",
    "x1=1\n",
    "x2=len(t)\n",
    "y1=slopeTest*x1+interceptTest\n",
    "y2=slopeTest*x2+interceptTest\n",
    "plt.plot([x1,x2],[y1,y2],linewidth=3, color=color2)         \n",
    "        \n",
    "plt.grid('on')\n",
    "plt.xlabel('Trial')\n",
    "plt.ylabel('Performance (r-value)')\n",
    "plt.legend()\n",
    "plt.show()\n",
    "\n",
    "# fig.savefig('Figures/SS02Day1-8_r_vs_trial.png', dpi=600, format='png', transparent=True)\n",
    "# fig.savefig('Figures/SS02Day1-8_r_vs_trial.eps', dpi=600, format='eps', transparent=True)"
   ]
  },
  {
   "cell_type": "markdown",
   "metadata": {},
   "source": [
    "## Boxplot of r value changes over sessions\n"
   ]
  },
  {
   "cell_type": "code",
   "execution_count": 11,
   "metadata": {},
   "outputs": [],
   "source": [
    "#     joint = 3 #This variable is also given in the previous plot.\n",
    "data_a = []\n",
    "data_b = []\n",
    "for i in range(len(t)):\n",
    "    # train\n",
    "    data_a.append(t[i].rTrain[:,joint])\n",
    "    # test\n",
    "    data_b.append(t[i].rTest[:,joint])"
   ]
  },
  {
   "cell_type": "code",
   "execution_count": 12,
   "metadata": {},
   "outputs": [],
   "source": [
    "# data_a = [[1,2,5], [5,7,2,2,5], [7,2,5]]\n",
    "# data_b = [[6,4,2], [1], [2,3,5,1]]\n",
    "\n",
    "temp = range(len(t))\n",
    "ticks = map(lambda x: str(x+1), temp)\n",
    "\n",
    "def set_box_color(bp, color):\n",
    "    plt.setp(bp['boxes'], color=color)\n",
    "    plt.setp(bp['whiskers'], color=color)\n",
    "    plt.setp(bp['caps'], color=color)\n",
    "    plt.setp(bp['medians'], color=color)\n",
    "\n",
    "plt.figure(figsize=(7,4))\n",
    "\n",
    "bpl = plt.boxplot(data_a, positions=np.array(xrange(len(data_a)))*2.0-0.3, sym='', widths=0.3, showbox=True, showcaps=False)\n",
    "bpr = plt.boxplot(data_b, positions=np.array(xrange(len(data_b)))*2.0+0.3, sym='', widths=0.3, showcaps=False)\n",
    "set_box_color(bpl, color1) \n",
    "set_box_color(bpr, color2)\n",
    "\n",
    "# draw temporary red and blue lines and use them to create a legend\n",
    "plt.plot([], c=color1, label='Train')\n",
    "plt.plot([], c=color2, label='Test')\n",
    "plt.legend()\n",
    "\n",
    "plt.xticks(xrange(0, len(ticks) * 2, 2), ticks)\n",
    "plt.xlim(-2, len(ticks)*2)\n",
    "plt.ylim(-1, 1)\n",
    "# plt.tight_layout()\n",
    "plt.xlabel('Trial')\n",
    "plt.ylabel('Performance (r-value)')\n",
    "\n",
    "plt.subplots_adjust(right=0.96)"
   ]
  },
  {
   "cell_type": "code",
   "execution_count": 13,
   "metadata": {},
   "outputs": [],
   "source": [
    "fig.savefig('Figures/SS02Day1-8_r_boxplot.png', dpi=600, format='png', transparent=True)\n",
    "fig.savefig('Figures/SS02Day1-8_r_boxplot.eps', dpi=600, format='eps', transparent=True)"
   ]
  },
  {
   "cell_type": "code",
   "execution_count": 77,
   "metadata": {},
   "outputs": [],
   "source": [
    "plt.close('all')"
   ]
  },
  {
   "cell_type": "markdown",
   "metadata": {},
   "source": [
    "# chech gait segmentation"
   ]
  },
  {
   "cell_type": "code",
   "execution_count": 14,
   "metadata": {},
   "outputs": [
    {
     "name": "stdout",
     "output_type": "stream",
     "text": [
      "Outlier peaks (outside 3 std range) are: [  0  18  19 267 474 512]\n",
      "peakDiffMean = 175.223255814\n",
      "peakDiffStd = 7.63629147815\n"
     ]
    }
   ],
   "source": [
    "t[1].gaitSegmentation(check=True)"
   ]
  },
  {
   "cell_type": "code",
   "execution_count": 15,
   "metadata": {},
   "outputs": [
    {
     "ename": "NameError",
     "evalue": "name 'ma' is not defined",
     "output_type": "error",
     "traceback": [
      "\u001b[0;31m\u001b[0m",
      "\u001b[0;31mNameError\u001b[0mTraceback (most recent call last)",
      "\u001b[0;32m<ipython-input-15-44950f159f89>\u001b[0m in \u001b[0;36m<module>\u001b[0;34m()\u001b[0m\n\u001b[0;32m----> 1\u001b[0;31m \u001b[0mma\u001b[0m\u001b[0;34m.\u001b[0m\u001b[0mshape\u001b[0m\u001b[0;34m\u001b[0m\u001b[0m\n\u001b[0m",
      "\u001b[0;31mNameError\u001b[0m: name 'ma' is not defined"
     ]
    }
   ],
   "source": [
    "ma.shape"
   ]
  },
  {
   "cell_type": "code",
   "execution_count": null,
   "metadata": {},
   "outputs": [],
   "source": []
  }
 ],
 "metadata": {
  "kernelspec": {
   "display_name": "Python 2",
   "language": "python",
   "name": "python2"
  },
  "language_info": {
   "codemirror_mode": {
    "name": "ipython",
    "version": 2
   },
   "file_extension": ".py",
   "mimetype": "text/x-python",
   "name": "python",
   "nbconvert_exporter": "python",
   "pygments_lexer": "ipython2",
   "version": "2.7.14"
  }
 },
 "nbformat": 4,
 "nbformat_minor": 2
}
