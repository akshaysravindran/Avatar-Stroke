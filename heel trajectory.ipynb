{
 "cells": [
  {
   "cell_type": "code",
   "execution_count": 1,
   "metadata": {},
   "outputs": [
    {
     "name": "stderr",
     "output_type": "stream",
     "text": [
      "c:\\python27\\lib\\site-packages\\statsmodels\\compat\\pandas.py:56: FutureWarning: The pandas.core.datetools module is deprecated and will be removed in a future version. Please use the pandas.tseries module instead.\n",
      "  from pandas.core import datetools\n"
     ]
    }
   ],
   "source": [
    "import matplotlib.pyplot as plt\n",
    "import numpy as np\n",
    "from asp.load import Trial"
   ]
  },
  {
   "cell_type": "code",
   "execution_count": 2,
   "metadata": {
    "collapsed": true
   },
   "outputs": [],
   "source": [
    "%matplotlib qt"
   ]
  },
  {
   "cell_type": "code",
   "execution_count": 5,
   "metadata": {
    "collapsed": true
   },
   "outputs": [],
   "source": [
    "totalTrial = 12\n",
    "t = []\n",
    "for trialId in range(1,totalTrial+1):\n",
    "    i = trialId-1\n",
    "    t.append(Trial(1, trialId))\n",
    "    t[i].readDecoder()  \n",
    "    t[i].readConductor()\n",
    "    t[i].heelTrajectory()"
   ]
  },
  {
   "cell_type": "code",
   "execution_count": 12,
   "metadata": {},
   "outputs": [],
   "source": [
    "fig, axarr = plt.subplots(4,3,figsize=(7,6))\n",
    "\n",
    "for i in range(0,totalTrial):\n",
    "    ax = axarr[i/3, i%3]\n",
    "    \n",
    "#     t1 = np.argmax(t[i].decoderFile[:,0]>30)\n",
    "#     t2 = np.argmax(t[i].decoderFile[:,0]>570)\n",
    "#     t3 = np.argmax(t[i].decoderFile[:,0]>930)\n",
    "#     ax.plot(t[i].heel[t1:t2,0], t[i].heel[t1:t2,1], linewidth='0.1', alpha=0.8)\n",
    "#     ax.plot(t[i].heel[t2:t3,0], t[i].heel[t2:t3,1], linewidth='0.1', alpha=0.6)\n",
    "    \n",
    "    t1 = np.argmax(t[i].decoderFile[:,0]>t[i].events['tdmStart']+30)\n",
    "    t2 = np.argmax(t[i].decoderFile[:,0]>t[i].events['tdmStart']+150)\n",
    "    t3 = np.argmax(t[i].decoderFile[:,0]>t[i].events['brainEnd']-200)\n",
    "    t4 = np.argmax(t[i].decoderFile[:,0]>t[i].events['brainEnd']-80)\n",
    "    ax.plot(t[i].heel[t1:t2,0], t[i].heel[t1:t2,1], linewidth='0.1', alpha=0.8)\n",
    "    ax.plot(t[i].heel[t3:t4,0], t[i].heel[t3:t4,1], linewidth='0.1', alpha=0.6)\n",
    "    \n",
    "    ax.set_xlim([-300, 250])\n",
    "    ax.set_ylim([-800, -650])\n",
    "    ax.axis('off')\n",
    "    ax.text(-250, -750, str(i+1))\n",
    "\n",
    "ax.plot([0,0],[-700,-700],color='#1f77b4', label='Training')\n",
    "ax.plot([0,0],[-700,-700],color='#ff7f0e', label='Testing')\n",
    "plt.legend(edgecolor='none')    \n",
    "plt.subplots_adjust(left=0, right=1, top=1, bottom=0, hspace=0.0, wspace=0.0)\n",
    "fig.show()"
   ]
  },
  {
   "cell_type": "code",
   "execution_count": 13,
   "metadata": {
    "collapsed": true
   },
   "outputs": [],
   "source": [
    "plt.savefig('Figures/heel_trajectory_v2.png',dpi=300,pad_inches=0, transparent=True)"
   ]
  },
  {
   "cell_type": "code",
   "execution_count": null,
   "metadata": {
    "collapsed": true
   },
   "outputs": [],
   "source": []
  }
 ],
 "metadata": {
  "kernelspec": {
   "display_name": "Python 2",
   "language": "python",
   "name": "python2"
  },
  "language_info": {
   "codemirror_mode": {
    "name": "ipython",
    "version": 2
   },
   "file_extension": ".py",
   "mimetype": "text/x-python",
   "name": "python",
   "nbconvert_exporter": "python",
   "pygments_lexer": "ipython2",
   "version": "2.7.13"
  }
 },
 "nbformat": 4,
 "nbformat_minor": 2
}
