{
 "cells": [
  {
   "cell_type": "code",
   "execution_count": 3,
   "metadata": {},
   "outputs": [
    {
     "name": "stderr",
     "output_type": "stream",
     "text": [
      "c:\\python27\\lib\\site-packages\\statsmodels\\compat\\pandas.py:56: FutureWarning: The pandas.core.datetools module is deprecated and will be removed in a future version. Please use the pandas.tseries module instead.\n",
      "  from pandas.core import datetools\n"
     ]
    }
   ],
   "source": [
    "import matplotlib.pyplot as plt\n",
    "import numpy as np\n",
    "import scipy\n",
    "from asp.load import Trial\n",
    "\n",
    "# ------ parameters ------\n",
    "\n",
    "timeEEGbegin = 570 # beginning of EEG control"
   ]
  },
  {
   "cell_type": "code",
   "execution_count": null,
   "metadata": {
    "collapsed": true
   },
   "outputs": [],
   "source": [
    "# NOTE:\n",
    "# This graph and visualize-r-in-each-trial both plot the whole duration of decoder file."
   ]
  },
  {
   "cell_type": "code",
   "execution_count": 4,
   "metadata": {},
   "outputs": [
    {
     "name": "stderr",
     "output_type": "stream",
     "text": [
      "c:\\python27\\lib\\site-packages\\numpy\\lib\\function_base.py:3162: RuntimeWarning: invalid value encountered in true_divide\n",
      "  c /= stddev[:, None]\n",
      "c:\\python27\\lib\\site-packages\\numpy\\lib\\function_base.py:3163: RuntimeWarning: invalid value encountered in true_divide\n",
      "  c /= stddev[None, :]\n"
     ]
    }
   ],
   "source": [
    "totalTrial = 12\n",
    "t = []\n",
    "for trialId in range(1,totalTrial+1):\n",
    "    i = trialId-1\n",
    "    t.append(Trial(1, trialId))\n",
    "    t[i].readDecoder()\n",
    "    t[i].readConductor()\n",
    "    t[i].fitRcurve('knee')\n",
    "    t[i].fitRcurve('hip')\n",
    "    t[i].fitRcurve('ankle')"
   ]
  },
  {
   "cell_type": "code",
   "execution_count": 52,
   "metadata": {
    "collapsed": true
   },
   "outputs": [],
   "source": [
    "fig = plt.figure(figsize=(7,5.5))"
   ]
  },
  {
   "cell_type": "code",
   "execution_count": 53,
   "metadata": {},
   "outputs": [
    {
     "data": {
      "text/plain": [
       "<matplotlib.text.Text at 0x1a34a470>"
      ]
     },
     "execution_count": 53,
     "metadata": {},
     "output_type": "execute_result"
    }
   ],
   "source": [
    "# HIP all curves\n",
    "\n",
    "ax = fig.add_subplot(221)\n",
    "\n",
    "for i in range(0,totalTrial):\n",
    "    ax.plot(t[i].rCurveHip[:,0], t[i].rCurveHip[:,1])\n",
    "        \n",
    "# remove the frame\n",
    "ax.spines['top'].set_visible(False)\n",
    "ax.spines['right'].set_visible(False)\n",
    "\n",
    "# a vertical line to mark the beginning of EEG control\n",
    "axh = plt.gca()\n",
    "ax.plot([0,0], axh.get_ylim(), 'k-', lw=2)\n",
    "ax.autoscale(enable=True, axis='y', tight=True)\n",
    "\n",
    "ax.text(6.5,     t[0].rCurveHip[-1,1], '1', verticalalignment='center')\n",
    "ax.text(6.5+0.3, t[1].rCurveHip[-1,1], '2', verticalalignment='center')\n",
    "ax.text(6.5,     t[2].rCurveHip[-1,1], '3', verticalalignment='center')\n",
    "ax.text(6.5,     t[3].rCurveHip[-1,1], '4', verticalalignment='center')\n",
    "ax.text(6.5,     t[4].rCurveHip[-1,1], '5', verticalalignment='center')\n",
    "ax.text(6.5,     t[5].rCurveHip[-1,1], '6', verticalalignment='center')\n",
    "ax.text(6.5+0.6, t[6].rCurveHip[-1,1], '7', verticalalignment='center')\n",
    "ax.text(6.5,     t[7].rCurveHip[-1,1], '8', verticalalignment='center')\n",
    "ax.text(6.5,     t[8].rCurveHip[-1,1], '9', verticalalignment='center')\n",
    "ax.text(6.5+0.3, t[9].rCurveHip[-1,1], '10', verticalalignment='center')\n",
    "ax.text(6.5,     t[10].rCurveHip[-1,1], '11', verticalalignment='center')\n",
    "ax.text(6.5+0.3, t[11].rCurveHip[-1,1], '12', verticalalignment='center')\n",
    "\n",
    "plt.ylabel(\"Pearson's r - Hip\")"
   ]
  },
  {
   "cell_type": "code",
   "execution_count": 54,
   "metadata": {
    "scrolled": true
   },
   "outputs": [
    {
     "data": {
      "text/plain": [
       "[<matplotlib.axis.XTick at 0x1a50d770>,\n",
       " <matplotlib.axis.XTick at 0x1a33ee90>,\n",
       " <matplotlib.axis.XTick at 0x1a589290>,\n",
       " <matplotlib.axis.XTick at 0x1a607810>,\n",
       " <matplotlib.axis.XTick at 0x1a607b90>,\n",
       " <matplotlib.axis.XTick at 0x1a607f10>,\n",
       " <matplotlib.axis.XTick at 0x1a6132b0>,\n",
       " <matplotlib.axis.XTick at 0x1a613630>,\n",
       " <matplotlib.axis.XTick at 0x1a6139b0>,\n",
       " <matplotlib.axis.XTick at 0x1a613d30>,\n",
       " <matplotlib.axis.XTick at 0x1a61f0d0>]"
      ]
     },
     "execution_count": 54,
     "metadata": {},
     "output_type": "execute_result"
    }
   ],
   "source": [
    "# HIP 0th min\n",
    "\n",
    "ax = fig.add_subplot(222)\n",
    "\n",
    "# line fitting\n",
    "lx = []\n",
    "ly = []\n",
    "for i in range(0,totalTrial):\n",
    "    timeIdx = np.argmax(t[i].rCurveHip[:,0]>-0.25) # r value at 9th min\n",
    "    lx.append(i+1)\n",
    "    ly.append(t[i].rCurveHip[timeIdx,1])\n",
    "slope, intercept, r_value, p_value, std_err = scipy.stats.linregress(lx, ly)\n",
    "\n",
    "# plot line\n",
    "x1=1\n",
    "x2=totalTrial\n",
    "y1=slope*x1+intercept\n",
    "y2=slope*x2+intercept\n",
    "ax.plot([x1,x2],[y1,y2],linewidth=3, color='slateblue')\n",
    "\n",
    "# plot dots\n",
    "for i in range(0,totalTrial):\n",
    "    ax.plot(lx[i], ly[i],'ko')\n",
    "\n",
    "ax.spines['top'].set_visible(False)\n",
    "ax.spines['right'].set_visible(False)\n",
    "\n",
    "\n",
    "# HIP 16th min\n",
    "\n",
    "# line fitting\n",
    "lx = []\n",
    "ly = []\n",
    "for i in range(0,totalTrial):\n",
    "    lastMin = (t[i].events['brainEnd']-t[i].events['brainStart'])/60\n",
    "    timeIdx = np.argmax(t[i].rCurveHip[:,0]>lastMin-0.25) # r value at the last min\n",
    "    lx.append(i+1)\n",
    "    ly.append(t[i].rCurveHip[timeIdx,1])\n",
    "slope, intercept, r_value, p_value, std_err = scipy.stats.linregress(lx, ly)\n",
    "\n",
    "# plot line\n",
    "x1=1\n",
    "x2=totalTrial\n",
    "y1=slope*x1+intercept\n",
    "y2=slope*x2+intercept\n",
    "ax.plot([x1,x2],[y1,y2],linewidth=3, color='orchid')\n",
    "\n",
    "# plot dots\n",
    "for i in range(0,totalTrial):\n",
    "    ax.plot(lx[i], ly[i],'o',color='0.75')\n",
    "    \n",
    "ax.set_xticks(np.arange(1,totalTrial))"
   ]
  },
  {
   "cell_type": "code",
   "execution_count": 55,
   "metadata": {},
   "outputs": [
    {
     "data": {
      "text/plain": [
       "<matplotlib.text.Text at 0x1a673c10>"
      ]
     },
     "execution_count": 55,
     "metadata": {},
     "output_type": "execute_result"
    }
   ],
   "source": [
    "# KNEE all curves\n",
    "\n",
    "ax = fig.add_subplot(223)\n",
    "\n",
    "\n",
    "for i in range(0,totalTrial):\n",
    "    ax.plot(t[i].rCurveKnee[:,0], t[i].rCurveKnee[:,1])\n",
    "        \n",
    "# remove the frame\n",
    "ax.spines['top'].set_visible(False)\n",
    "ax.spines['right'].set_visible(False)\n",
    "\n",
    "# a vertical line to mark the beginning of EEG control\n",
    "axh = plt.gca()\n",
    "ax.plot([0,0], axh.get_ylim(), 'k-', lw=2)\n",
    "ax.autoscale(enable=True, axis='y', tight=True)\n",
    "\n",
    "ax.text(6.5, t[0].rCurveKnee[-1,1], '1', verticalalignment='center')\n",
    "ax.text(6.5+0.3, t[1].rCurveKnee[-1,1], '2', verticalalignment='center')\n",
    "ax.text(6.5, t[2].rCurveKnee[-1,1], '3', verticalalignment='center')\n",
    "ax.text(6.5, t[3].rCurveKnee[-1,1], '4', verticalalignment='center')\n",
    "ax.text(6.5, t[4].rCurveKnee[-1,1], '5', verticalalignment='center')\n",
    "ax.text(6.5, t[5].rCurveKnee[-1,1], '6', verticalalignment='center')\n",
    "ax.text(6.5+0.6, t[6].rCurveKnee[-1,1], '7', verticalalignment='center')\n",
    "ax.text(6.5+0.9, t[7].rCurveKnee[-1,1], '8', verticalalignment='center')\n",
    "ax.text(6.5+1.2, t[8].rCurveKnee[-1,1], '9', verticalalignment='center')\n",
    "ax.text(6.5+0.3, t[9].rCurveKnee[-1,1], '10', verticalalignment='center')\n",
    "ax.text(6.5+0.6, t[10].rCurveKnee[-1,1], '11', verticalalignment='center')\n",
    "ax.text(6.5, t[11].rCurveKnee[-1,1], '12', verticalalignment='center')\n",
    "\n",
    "plt.ylabel(\"Pearson's r - Knee\")\n",
    "ax.set_xlabel('Time (min)')"
   ]
  },
  {
   "cell_type": "code",
   "execution_count": 56,
   "metadata": {},
   "outputs": [
    {
     "data": {
      "text/plain": [
       "<matplotlib.text.Text at 0x1a734750>"
      ]
     },
     "execution_count": 56,
     "metadata": {},
     "output_type": "execute_result"
    }
   ],
   "source": [
    "# KNEE 0th min\n",
    "\n",
    "#fig = plt.figure()\n",
    "ax = fig.add_subplot(224)\n",
    "\n",
    "# line fitting\n",
    "lx = []\n",
    "ly = []\n",
    "for i in range(0,totalTrial):\n",
    "    timeIdx = np.argmax(t[i].rCurveKnee[:,0]>-0.25)\n",
    "    lx.append(i+1)\n",
    "    ly.append(t[i].rCurveKnee[timeIdx,1])\n",
    "slope, intercept, r_value, p_value, std_err = scipy.stats.linregress(lx, ly)\n",
    "\n",
    "# plot line\n",
    "x1=1\n",
    "x2=totalTrial\n",
    "y1=slope*x1+intercept\n",
    "y2=slope*x2+intercept\n",
    "ax.plot([x1,x2],[y1,y2],linewidth=3, color='slateblue')\n",
    "\n",
    "# plot dots\n",
    "for i in range(0,totalTrial):\n",
    "    ax.plot(lx[i], ly[i],'ko')\n",
    "\n",
    "ax.spines['top'].set_visible(False)\n",
    "ax.spines['right'].set_visible(False)\n",
    "\n",
    "\n",
    "# KNEE last min\n",
    "\n",
    "# line fitting\n",
    "lx = []\n",
    "ly = []\n",
    "for i in range(0,totalTrial):\n",
    "    timeIdx = np.argmax(t[i].rCurveKnee[:,0]>lastMin-0.25)\n",
    "    lx.append(i+1)\n",
    "    ly.append(t[i].rCurveKnee[timeIdx,1])\n",
    "slope, intercept, r_value, p_value, std_err = scipy.stats.linregress(lx, ly)\n",
    "\n",
    "# plot line\n",
    "x1=1\n",
    "x2=totalTrial\n",
    "y1=slope*x1+intercept\n",
    "y2=slope*x2+intercept\n",
    "ax.plot([x1,x2],[y1,y2],linewidth=3, color='orchid')\n",
    "\n",
    "# plot dots\n",
    "for i in range(0,totalTrial):\n",
    "    ax.plot(lx[i], ly[i],'o', color='0.75')\n",
    "\n",
    "ax.spines['top'].set_visible(False)\n",
    "ax.spines['right'].set_visible(False)\n",
    "\n",
    "ax.set_xticks(np.arange(1,totalTrial+1))\n",
    "ax.set_xlabel('Trial')\n"
   ]
  },
  {
   "cell_type": "code",
   "execution_count": 25,
   "metadata": {
    "collapsed": true
   },
   "outputs": [],
   "source": [
    "# # ANKLE all curves\n",
    "\n",
    "# ax = fig.add_subplot(325)\n",
    "\n",
    "\n",
    "# for i in range(0,8):\n",
    "#     ax.plot(t[i].rCurveAnkle[:,0], t[i].rCurveAnkle[:,1])\n",
    "        \n",
    "# # remove the frame\n",
    "# ax.spines['top'].set_visible(False)\n",
    "# ax.spines['right'].set_visible(False)\n",
    "\n",
    "# # a vertical line to mark the beginning of EEG control\n",
    "# axh = plt.gca()\n",
    "# ax.plot([timeEEGbegin/60, timeEEGbegin/60], axh.get_ylim(), 'k-', lw=2)\n",
    "# ax.autoscale(enable=True, axis='y', tight=True)\n",
    "\n",
    "# # ax.text(16.2, fitCurveLastValue[0], '1', verticalalignment='center',fontsize = 12)\n",
    "# # ax.text(16.5, fitCurveLastValue[1], '2', verticalalignment='center',fontsize = 12)\n",
    "# # ax.text(16.2, fitCurveLastValue[2], '3', verticalalignment='center',fontsize = 12)\n",
    "# # ax.text(16.2, fitCurveLastValue[3], '4', verticalalignment='center',fontsize = 12)\n",
    "# # ax.text(16.2, fitCurveLastValue[4], '5', verticalalignment='center',fontsize = 12)\n",
    "# # ax.text(16.2, fitCurveLastValue[5], '6', verticalalignment='center',fontsize = 12)\n",
    "# # ax.text(16.8, fitCurveLastValue[6], '7', verticalalignment='center',fontsize = 12)\n",
    "# # ax.text(17.1, fitCurveLastValue[7], '8', verticalalignment='center',fontsize = 12)\n",
    "\n",
    "# ax.text(16.2, t[0].rCurveAnkle[-1,1], '1', verticalalignment='center')\n",
    "# ax.text(16.2, t[1].rCurveAnkle[-1,1], '2', verticalalignment='center')\n",
    "# ax.text(16.2, t[2].rCurveAnkle[-1,1], '3', verticalalignment='center')\n",
    "# ax.text(16.5, t[3].rCurveAnkle[-1,1], '4', verticalalignment='center')\n",
    "# ax.text(16.2, t[4].rCurveAnkle[-1,1], '5', verticalalignment='center')\n",
    "# ax.text(16.2, t[5].rCurveAnkle[-1,1], '6', verticalalignment='center')\n",
    "# ax.text(16.2, t[6].rCurveAnkle[-1,1], '7', verticalalignment='center')\n",
    "# ax.text(16.5, t[7].rCurveAnkle[-1,1], '8', verticalalignment='center')\n",
    "\n",
    "# plt.xlabel('Time (min)')\n",
    "# plt.ylabel(\"Pearson's r - Ankle\")"
   ]
  },
  {
   "cell_type": "code",
   "execution_count": 26,
   "metadata": {
    "collapsed": true
   },
   "outputs": [],
   "source": [
    "# # ANKLE 9th min\n",
    "\n",
    "# #fig = plt.figure()\n",
    "# ax = fig.add_subplot(326)\n",
    "\n",
    "# # line fitting\n",
    "# lx = []\n",
    "# ly = []\n",
    "# for i in range(0,8):\n",
    "#     timeIdx = np.argmax(t[i].rCurveAnkle[:,0]>9)\n",
    "#     lx.append(i+1)\n",
    "#     ly.append(t[i].rCurveAnkle[timeIdx,1])\n",
    "# slope, intercept, r_value, p_value, std_err = scipy.stats.linregress(lx, ly)\n",
    "\n",
    "# # plot line\n",
    "# x1=1\n",
    "# x2=8\n",
    "# y1=slope*x1+intercept\n",
    "# y2=slope*x2+intercept\n",
    "# ax.plot([x1,x2],[y1,y2],linewidth=3, color='slateblue')\n",
    "\n",
    "# # plot dots\n",
    "# for i in range(0,8):\n",
    "#     ax.plot(lx[i], ly[i],'ko')\n",
    "\n",
    "# ax.spines['top'].set_visible(False)\n",
    "# ax.spines['right'].set_visible(False)\n",
    "\n",
    "\n",
    "# # KNEE 16th min\n",
    "\n",
    "# # line fitting\n",
    "# lx = []\n",
    "# ly = []\n",
    "# for i in range(0,8):\n",
    "#     timeIdx = np.argmax(t[i].rCurveAnkle[:,0]>15.3)\n",
    "#     lx.append(i+1)\n",
    "#     ly.append(t[i].rCurveAnkle[timeIdx,1])\n",
    "# slope, intercept, r_value, p_value, std_err = scipy.stats.linregress(lx, ly)\n",
    "\n",
    "# # plot line\n",
    "# x1=1\n",
    "# x2=8\n",
    "# y1=slope*x1+intercept\n",
    "# y2=slope*x2+intercept\n",
    "# ax.plot([x1,x2],[y1,y2],linewidth=3, color='orchid')\n",
    "\n",
    "# # plot dots\n",
    "# for i in range(0,8):\n",
    "#     ax.plot(lx[i], ly[i],'o', color='0.75')\n",
    "\n",
    "# ax.spines['top'].set_visible(False)\n",
    "# ax.spines['right'].set_visible(False)\n",
    "\n",
    "# ax.set_xlabel('Trial')\n",
    "# ax.set_xticks([1,2,3,4,5,6,7,8])"
   ]
  },
  {
   "cell_type": "code",
   "execution_count": 57,
   "metadata": {
    "collapsed": true,
    "scrolled": true
   },
   "outputs": [],
   "source": [
    "fig.tight_layout()\n",
    "fig.subplots_adjust(hspace=0.24, wspace=0.29)\n",
    "plt.show()"
   ]
  },
  {
   "cell_type": "code",
   "execution_count": 58,
   "metadata": {
    "collapsed": true
   },
   "outputs": [],
   "source": [
    "plt.savefig('Figures/r_values_all_session_v3.png',dpi=300,pad_inches=0, transparent=True)"
   ]
  },
  {
   "cell_type": "code",
   "execution_count": 7,
   "metadata": {
    "collapsed": true
   },
   "outputs": [],
   "source": [
    "%matplotlib qt"
   ]
  },
  {
   "cell_type": "code",
   "execution_count": null,
   "metadata": {
    "collapsed": true
   },
   "outputs": [],
   "source": [
    "\n"
   ]
  }
 ],
 "metadata": {
  "kernelspec": {
   "display_name": "Python 2",
   "language": "python",
   "name": "python2"
  },
  "language_info": {
   "codemirror_mode": {
    "name": "ipython",
    "version": 2
   },
   "file_extension": ".py",
   "mimetype": "text/x-python",
   "name": "python",
   "nbconvert_exporter": "python",
   "pygments_lexer": "ipython2",
   "version": "2.7.13"
  }
 },
 "nbformat": 4,
 "nbformat_minor": 2
}
