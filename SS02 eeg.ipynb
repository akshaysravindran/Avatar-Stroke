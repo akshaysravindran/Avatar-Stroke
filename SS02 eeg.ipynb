{
 "cells": [
  {
   "cell_type": "code",
   "execution_count": 10,
   "metadata": {},
   "outputs": [],
   "source": [
    "import matplotlib\n",
    "matplotlib.use('Qt5Agg')\n",
    "import matplotlib.pyplot as plt\n",
    "import numpy as np\n",
    "import scipy\n",
    "from scipy.signal import butter, lfilter, filtfilt\n",
    "\n",
    "from asp.load import Trial\n",
    "\n",
    "%matplotlib qt5"
   ]
  },
  {
   "cell_type": "code",
   "execution_count": 2,
   "metadata": {},
   "outputs": [],
   "source": [
    "totalTrial = 1\n",
    "t = []\n",
    "for trialId in range(1,totalTrial+1):\n",
    "    i = trialId-1\n",
    "    t.append(Trial(2, trialId))\n",
    "    t[i].readDecoder()\n",
    "    t[i].readConductor()\n",
    "    t[i].gaitSegmentation(check=False)\n",
    "    t[i].readEEG()"
   ]
  },
  {
   "cell_type": "code",
   "execution_count": 4,
   "metadata": {},
   "outputs": [],
   "source": [
    "def cutArray(arr, t_start, t_end):\n",
    "# Summary: The first column of the input array is time, other columns are data. Cut part of this array based on start/end time\n",
    "# prerequisite:\n",
    "# Input: n-column array like rCurveHip, and the starting and ending time of segmentation\n",
    "# Output: a segment of this array\n",
    "# Date: 2017-7-28\n",
    "\n",
    "    t_start_idx = np.argmax (arr[:,0]>t_start)\n",
    "    t_end_idx = np.argmax (arr[:,0]>t_end)\n",
    "\n",
    "    output = arr[t_start_idx:t_end_idx, :]\n",
    "\n",
    "    return output"
   ]
  },
  {
   "cell_type": "code",
   "execution_count": 71,
   "metadata": {},
   "outputs": [],
   "source": [
    "def eegBands(data, fs=100):\n",
    "    f, Pxx = scipy.signal.welch(data, fs=fs, window='hanning')\n",
    "    bands = []\n",
    "    bands.append(np.where((f>0.1) & (f<4) ))\n",
    "    bands.append(np.where((f>4)   & (f<8) ))\n",
    "    bands.append(np.where((f>8)   & (f<12)))\n",
    "    bands.append(np.where((f>12)  & (f<30)))\n",
    "    bands.append(np.where((f>30)  & (f<49)))\n",
    "    bandPowers = [sum(Pxx[x]) for x in bands]\n",
    "    return bandPowers"
   ]
  },
  {
   "cell_type": "code",
   "execution_count": 99,
   "metadata": {},
   "outputs": [],
   "source": [
    "def eegPowerTrainTest(eegMatrix, chan, fs=100):\n",
    "    # Input: eegMatrix is the matrix without EOG channels. Basically the self.eeg \n",
    "    # Output: a 2*5 matrix representing the power in each band (normalized by signal length)\n",
    "    # 2 rows: train, test. 5 columns: the five EEG bands\n",
    "    eegTrain = cutArray(eegMatrix, t[i].events['tdmStart']+60, t[0].events['brainStart']-5)\n",
    "    eegTest = cutArray(eegMatrix, t[i].events['brainStart']+2, t[0].events['brainEnd']-5)\n",
    "    bandPowersTrain = np.array(eegBands(eegTrain[:, chan])).reshape((1,-1))/eegTrain.shape[0] # normalize by length \n",
    "    bandPowersTest  = np.array(eegBands(eegTest [:, chan])).reshape((1,-1))/eegTest.shape[0]\n",
    "    bandPowers = np.concatenate((bandPowersTrain, bandPowersTest), axis=0)\n",
    "    return bandPowers"
   ]
  },
  {
   "cell_type": "code",
   "execution_count": 101,
   "metadata": {},
   "outputs": [
    {
     "data": {
      "text/plain": [
       "array([[ 0.02122463,  0.00094022,  0.00081939,  0.00276141,  0.00142677],\n",
       "       [ 0.03134755,  0.00073329,  0.00066063,  0.00175776,  0.00074328]])"
      ]
     },
     "execution_count": 101,
     "metadata": {},
     "output_type": "execute_result"
    }
   ],
   "source": [
    "eegPowerTrainTest(t[0].eeg, 15)"
   ]
  }
 ],
 "metadata": {
  "kernelspec": {
   "display_name": "Python 2",
   "language": "python",
   "name": "python2"
  },
  "language_info": {
   "codemirror_mode": {
    "name": "ipython",
    "version": 2
   },
   "file_extension": ".py",
   "mimetype": "text/x-python",
   "name": "python",
   "nbconvert_exporter": "python",
   "pygments_lexer": "ipython2",
   "version": "2.7.13"
  }
 },
 "nbformat": 4,
 "nbformat_minor": 2
}
