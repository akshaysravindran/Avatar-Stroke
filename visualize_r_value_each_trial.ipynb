{
 "cells": [
  {
   "cell_type": "code",
   "execution_count": 1,
   "metadata": {},
   "outputs": [
    {
     "name": "stderr",
     "output_type": "stream",
     "text": [
      "c:\\python27\\lib\\site-packages\\statsmodels\\compat\\pandas.py:56: FutureWarning: The pandas.core.datetools module is deprecated and will be removed in a future version. Please use the pandas.tseries module instead.\n",
      "  from pandas.core import datetools\n"
     ]
    }
   ],
   "source": [
    "import matplotlib.pyplot as plt\n",
    "import statsmodels.api as sm  # for some reason also need to install patsy\n",
    "\n",
    "from asp.load import Trial\n",
    "from asp.rolling_r_value import rolling_r_value  # a small function to compute rolling r value\n",
    "\n",
    "# ------ parameters ------\n",
    "winLen = 1000\n",
    "r_fs = 500\n",
    "timeEEGbegin = 450 # beginning of EEG control"
   ]
  },
  {
   "cell_type": "code",
   "execution_count": 2,
   "metadata": {
    "collapsed": true
   },
   "outputs": [],
   "source": [
    "%matplotlib qt"
   ]
  },
  {
   "cell_type": "code",
   "execution_count": null,
   "metadata": {
    "collapsed": true
   },
   "outputs": [],
   "source": [
    "fig = plt.figure(figsize=(7,5.5))\n",
    "\n",
    "axes = []\n",
    "i=1\n",
    "for trialId in range(9,13):\n",
    "    ax = fig.add_subplot(2,2,i)\n",
    "    axes.append(ax)\n",
    "    i = i+1\n",
    "    t = Trial(1, trialId)\n",
    "    t.readDecoder()\n",
    "    t.readConductor()\n",
    "\n",
    "    r = rolling_r_value(t.decoderFile[:,1], t.decoderFile[:,7], winLen, r_fs)\n",
    "    # -- the old way to create time series in x-axis is purely\n",
    "    # through the sampling rate and protocol. However, the sampling\n",
    "    # rate is about 86Hz rather than 100. So it's better to use the\n",
    "    # recorded time in the x-axis\n",
    "    # r_windowTime = np.array(range(0, r.size*5, 5))\n",
    "    r_time = t.decoderFile[0:-winLen:r_fs, 0].copy()-t.events['brainStart'] #pick a sample every r_fs samples\n",
    "\n",
    "\n",
    "    # figure\n",
    "#     plt.figure()\n",
    "    ax.plot(r_time/60.0, r,'.')\n",
    "#     ax.set_xlabel('Time (min)')\n",
    "#     ax.set_ylabel(\"Pearson's r\")\n",
    "    # a vertical line to mark the beginning of EEG control\n",
    "#     ax = plt.gca()\n",
    "    ax.plot([0,0], ax.get_ylim(), 'k-', lw=2)\n",
    "    ax.plot(r_time/60.0, r,'.') # plot dots again so that they are not covered by the vertical line\n",
    "    ax.autoscale(enable=True, axis='y', tight=True)\n",
    "    # curve fitting\n",
    "    fittedCurve = sm.nonparametric.lowess(r, r_time/60.0, frac=0.5)\n",
    "    # the line above accepts Y coordinate before X.\n",
    "    ax.plot(fittedCurve[:,0], fittedCurve[:,1])\n",
    "\n",
    "axes[2].set_xlabel('Time (min)')\n",
    "axes[2].set_ylabel(\"Pearson's r\")\n",
    "# plt.savefig('Figures/r_value_in_one_trial.png',dpi=300,pad_inches=0, transparent=True)\n",
    "\n",
    "plt.show()"
   ]
  },
  {
   "cell_type": "code",
   "execution_count": null,
   "metadata": {
    "collapsed": true
   },
   "outputs": [],
   "source": [
    "plt.savefig('Figures/r_value_in_one_trial_T9-12.png',dpi=300,pad_inches=0, transparent=True)"
   ]
  },
  {
   "cell_type": "code",
   "execution_count": 14,
   "metadata": {},
   "outputs": [],
   "source": [
    "for trialId in range(5,6):\n",
    "    t = Trial(1, trialId)\n",
    "    t.readDecoder()\n",
    "    t.readConductor()\n",
    "\n",
    "    r = rolling_r_value(t.decoderFile[:,1], t.decoderFile[:,7], winLen, r_fs)\n",
    "    # -- the old way to create time series in x-axis is purely\n",
    "    # through the sampling rate and protocol. However, the sampling\n",
    "    # rate is about 86Hz rather than 100. So it's better to use the\n",
    "    # recorded time in the x-axis\n",
    "    # r_windowTime = np.array(range(0, r.size*5, 5))\n",
    "    r_time = t.decoderFile[0:-winLen:r_fs, 0].copy()-t.events['brainStart'] #pick a sample every r_fs samples\n",
    "\n",
    "\n",
    "    # figure\n",
    "    plt.figure()\n",
    "    plt.plot(r_time/60.0, r,'.')\n",
    "    plt.xlabel('Time (min)')\n",
    "    plt.ylabel(\"Pearson's r\")\n",
    "    # a vertical line to mark the beginning of EEG control\n",
    "    ax = plt.gca()\n",
    "    plt.plot([0,0], ax.get_ylim(), 'k-', lw=2)\n",
    "    plt.plot(r_time/60.0, r,'.') # plot dots again so that they are not covered by the vertical line\n",
    "    plt.autoscale(enable=True, axis='y', tight=True)\n",
    "    # curve fitting\n",
    "    fittedCurve = sm.nonparametric.lowess(r, r_time/60.0, frac=0.5)\n",
    "    # the line above accepts Y coordinate before X.\n",
    "    plt.plot(fittedCurve[:,0], fittedCurve[:,1])\n",
    "\n",
    "\n",
    "\n",
    "# plt.savefig('Figures/r_value_in_one_trial.png',dpi=300,pad_inches=0, transparent=True)\n",
    "\n",
    "plt.show()"
   ]
  },
  {
   "cell_type": "code",
   "execution_count": 15,
   "metadata": {
    "collapsed": true
   },
   "outputs": [],
   "source": [
    "plt.savefig('Figures/r_value_in_one_trial_T5.png',dpi=300,pad_inches=0, transparent=True)"
   ]
  },
  {
   "cell_type": "code",
   "execution_count": 10,
   "metadata": {
    "collapsed": true
   },
   "outputs": [],
   "source": [
    "import numpy as np"
   ]
  },
  {
   "cell_type": "code",
   "execution_count": 11,
   "metadata": {
    "scrolled": true
   },
   "outputs": [
    {
     "ename": "ValueError",
     "evalue": "invalid literal for float(): 960.001960.002",
     "output_type": "error",
     "traceback": [
      "\u001b[1;31m---------------------------------------------------------------------------\u001b[0m",
      "\u001b[1;31mValueError\u001b[0m                                Traceback (most recent call last)",
      "\u001b[1;32m<ipython-input-11-93c3ffcd3898>\u001b[0m in \u001b[0;36m<module>\u001b[1;34m()\u001b[0m\n\u001b[1;32m----> 1\u001b[1;33m \u001b[0mconductorFile\u001b[0m \u001b[1;33m=\u001b[0m \u001b[0mnp\u001b[0m\u001b[1;33m.\u001b[0m\u001b[0mloadtxt\u001b[0m\u001b[1;33m(\u001b[0m\u001b[0mt\u001b[0m\u001b[1;33m.\u001b[0m\u001b[0mfilePath\u001b[0m \u001b[1;33m+\u001b[0m \u001b[0mt\u001b[0m\u001b[1;33m.\u001b[0m\u001b[0mdate\u001b[0m \u001b[1;33m+\u001b[0m \u001b[1;34m'_conductor_'\u001b[0m \u001b[1;33m+\u001b[0m \u001b[0mt\u001b[0m\u001b[1;33m.\u001b[0m\u001b[0mfileID\u001b[0m \u001b[1;33m+\u001b[0m \u001b[1;34m'.txt'\u001b[0m\u001b[1;33m,\u001b[0m \u001b[0mskiprows\u001b[0m\u001b[1;33m=\u001b[0m\u001b[1;36m2\u001b[0m\u001b[1;33m)\u001b[0m\u001b[1;33m\u001b[0m\u001b[0m\n\u001b[0m",
      "\u001b[1;32mc:\\python27\\lib\\site-packages\\numpy\\lib\\npyio.pyc\u001b[0m in \u001b[0;36mloadtxt\u001b[1;34m(fname, dtype, comments, delimiter, converters, skiprows, usecols, unpack, ndmin)\u001b[0m\n\u001b[0;32m   1022\u001b[0m \u001b[1;33m\u001b[0m\u001b[0m\n\u001b[0;32m   1023\u001b[0m             \u001b[1;31m# Convert each value according to its column and store\u001b[0m\u001b[1;33m\u001b[0m\u001b[1;33m\u001b[0m\u001b[0m\n\u001b[1;32m-> 1024\u001b[1;33m             \u001b[0mitems\u001b[0m \u001b[1;33m=\u001b[0m \u001b[1;33m[\u001b[0m\u001b[0mconv\u001b[0m\u001b[1;33m(\u001b[0m\u001b[0mval\u001b[0m\u001b[1;33m)\u001b[0m \u001b[1;32mfor\u001b[0m \u001b[1;33m(\u001b[0m\u001b[0mconv\u001b[0m\u001b[1;33m,\u001b[0m \u001b[0mval\u001b[0m\u001b[1;33m)\u001b[0m \u001b[1;32min\u001b[0m \u001b[0mzip\u001b[0m\u001b[1;33m(\u001b[0m\u001b[0mconverters\u001b[0m\u001b[1;33m,\u001b[0m \u001b[0mvals\u001b[0m\u001b[1;33m)\u001b[0m\u001b[1;33m]\u001b[0m\u001b[1;33m\u001b[0m\u001b[0m\n\u001b[0m\u001b[0;32m   1025\u001b[0m             \u001b[1;31m# Then pack it according to the dtype's nesting\u001b[0m\u001b[1;33m\u001b[0m\u001b[1;33m\u001b[0m\u001b[0m\n\u001b[0;32m   1026\u001b[0m             \u001b[0mitems\u001b[0m \u001b[1;33m=\u001b[0m \u001b[0mpack_items\u001b[0m\u001b[1;33m(\u001b[0m\u001b[0mitems\u001b[0m\u001b[1;33m,\u001b[0m \u001b[0mpacking\u001b[0m\u001b[1;33m)\u001b[0m\u001b[1;33m\u001b[0m\u001b[0m\n",
      "\u001b[1;32mc:\\python27\\lib\\site-packages\\numpy\\lib\\npyio.pyc\u001b[0m in \u001b[0;36mfloatconv\u001b[1;34m(x)\u001b[0m\n\u001b[0;32m    723\u001b[0m         \u001b[1;32mif\u001b[0m \u001b[1;34mb'0x'\u001b[0m \u001b[1;32min\u001b[0m \u001b[0mx\u001b[0m\u001b[1;33m:\u001b[0m\u001b[1;33m\u001b[0m\u001b[0m\n\u001b[0;32m    724\u001b[0m             \u001b[1;32mreturn\u001b[0m \u001b[0mfloat\u001b[0m\u001b[1;33m.\u001b[0m\u001b[0mfromhex\u001b[0m\u001b[1;33m(\u001b[0m\u001b[0masstr\u001b[0m\u001b[1;33m(\u001b[0m\u001b[0mx\u001b[0m\u001b[1;33m)\u001b[0m\u001b[1;33m)\u001b[0m\u001b[1;33m\u001b[0m\u001b[0m\n\u001b[1;32m--> 725\u001b[1;33m         \u001b[1;32mreturn\u001b[0m \u001b[0mfloat\u001b[0m\u001b[1;33m(\u001b[0m\u001b[0mx\u001b[0m\u001b[1;33m)\u001b[0m\u001b[1;33m\u001b[0m\u001b[0m\n\u001b[0m\u001b[0;32m    726\u001b[0m \u001b[1;33m\u001b[0m\u001b[0m\n\u001b[0;32m    727\u001b[0m     \u001b[0mtyp\u001b[0m \u001b[1;33m=\u001b[0m \u001b[0mdtype\u001b[0m\u001b[1;33m.\u001b[0m\u001b[0mtype\u001b[0m\u001b[1;33m\u001b[0m\u001b[0m\n",
      "\u001b[1;31mValueError\u001b[0m: invalid literal for float(): 960.001960.002"
     ]
    }
   ],
   "source": [
    "conductorFile = np.loadtxt(t.filePath + t.date + '_conductor_' + t.fileID + '.txt', skiprows=2)"
   ]
  },
  {
   "cell_type": "code",
   "execution_count": 3,
   "metadata": {},
   "outputs": [
    {
     "data": {
      "text/plain": [
       "{'brainEnd': 749.90099999999995,\n",
       " 'brainStart': 450.00999999999999,\n",
       " 'tdmEnd': 780.00099999999998,\n",
       " 'tdmStart': 30.012699999999999}"
      ]
     },
     "execution_count": 3,
     "metadata": {},
     "output_type": "execute_result"
    }
   ],
   "source": [
    "t.events"
   ]
  }
 ],
 "metadata": {
  "kernelspec": {
   "display_name": "Python 2",
   "language": "python",
   "name": "python2"
  },
  "language_info": {
   "codemirror_mode": {
    "name": "ipython",
    "version": 2
   },
   "file_extension": ".py",
   "mimetype": "text/x-python",
   "name": "python",
   "nbconvert_exporter": "python",
   "pygments_lexer": "ipython2",
   "version": "2.7.13"
  }
 },
 "nbformat": 4,
 "nbformat_minor": 2
}
