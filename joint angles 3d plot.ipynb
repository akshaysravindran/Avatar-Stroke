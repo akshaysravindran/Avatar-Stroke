{
 "cells": [
  {
   "cell_type": "code",
   "execution_count": 15,
   "metadata": {},
   "outputs": [],
   "source": [
    "import matplotlib.pyplot as plt\n",
    "import numpy as np\n",
    "import scipy\n",
    "from asp.load import Trial\n",
    "from mpl_toolkits.mplot3d import Axes3D"
   ]
  },
  {
   "cell_type": "code",
   "execution_count": null,
   "metadata": {
    "collapsed": true
   },
   "outputs": [],
   "source": [
    "t = []\n",
    "for trialId in range(1,9):\n",
    "    i = trialId-1\n",
    "    t.append(Trial(1, trialId))\n",
    "    t[i].readDecoder()   "
   ]
  },
  {
   "cell_type": "code",
   "execution_count": 41,
   "metadata": {},
   "outputs": [],
   "source": [
    "shortDecoderFile = scipy.signal.decimate(t[0].decoderFile, 30, axis=0)\n",
    "t1 = np.argmax(shortDecoderFile[:,0]>30)\n",
    "t2 = np.argmax(shortDecoderFile[:,0]>570)\n",
    "t3 = np.argmax(shortDecoderFile[:,0]>930)\n",
    "\n",
    "fig = plt.figure()\n",
    "ax = fig.gca(projection='3d')\n",
    "ax.plot(shortDecoderFile[t1:t2,1], shortDecoderFile[t1:t2,2], shortDecoderFile[t1:t2,3], 'b', alpha=0.3)\n",
    "ax.plot(shortDecoderFile[t2:t3,1], shortDecoderFile[t2:t3,2], shortDecoderFile[t2:t3,3], 'r', alpha=0.3)"
   ]
  },
  {
   "cell_type": "code",
   "execution_count": 46,
   "metadata": {
    "collapsed": true
   },
   "outputs": [],
   "source": [
    "shortDecoderFile = t[0].decoderFile\n",
    "t1 = np.argmax(shortDecoderFile[:,0]>90)\n",
    "t2 = np.argmax(shortDecoderFile[:,0]>150)\n",
    "t3 = np.argmax(shortDecoderFile[:,0]>870)\n",
    "t4 = np.argmax(shortDecoderFile[:,0]>930)"
   ]
  },
  {
   "cell_type": "code",
   "execution_count": 51,
   "metadata": {},
   "outputs": [
    {
     "data": {
      "text/plain": [
       "<matplotlib.text.Text at 0x276c6a70>"
      ]
     },
     "execution_count": 51,
     "metadata": {},
     "output_type": "execute_result"
    }
   ],
   "source": [
    "fig = plt.figure()\n",
    "ax = fig.gca(projection='3d')\n",
    "ax.plot(shortDecoderFile[t1:t2,1], np.negative(shortDecoderFile[t1:t2,2]), shortDecoderFile[t1:t2,3], 'b', alpha=0.3, linewidth=0.5)\n",
    "ax.plot(shortDecoderFile[t3:t4,1], np.negative(shortDecoderFile[t3:t4,2]), shortDecoderFile[t3:t4,3], 'r', alpha=0.3, linewidth=0.5)\n",
    "\n",
    "ax.set_xlabel('Hip')\n",
    "ax.set_ylabel('Knee')\n",
    "ax.set_zlabel('Ankle')"
   ]
  }
 ],
 "metadata": {
  "kernelspec": {
   "display_name": "Python 2",
   "language": "python",
   "name": "python2"
  },
  "language_info": {
   "codemirror_mode": {
    "name": "ipython",
    "version": 2
   },
   "file_extension": ".py",
   "mimetype": "text/x-python",
   "name": "python",
   "nbconvert_exporter": "python",
   "pygments_lexer": "ipython2",
   "version": "2.7.13"
  }
 },
 "nbformat": 4,
 "nbformat_minor": 2
}
