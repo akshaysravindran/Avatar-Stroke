{
 "cells": [
  {
   "cell_type": "code",
   "execution_count": 1,
   "metadata": {},
   "outputs": [
    {
     "name": "stderr",
     "output_type": "stream",
     "text": [
      "c:\\python27\\lib\\site-packages\\statsmodels\\compat\\pandas.py:56: FutureWarning: The pandas.core.datetools module is deprecated and will be removed in a future version. Please use the pandas.tseries module instead.\n",
      "  from pandas.core import datetools\n"
     ]
    }
   ],
   "source": [
    "import matplotlib.pyplot as plt\n",
    "import numpy as np\n",
    "from asp.load import Trial"
   ]
  },
  {
   "cell_type": "code",
   "execution_count": 2,
   "metadata": {
    "collapsed": true
   },
   "outputs": [],
   "source": [
    "%matplotlib qt"
   ]
  },
  {
   "cell_type": "code",
   "execution_count": 3,
   "metadata": {
    "collapsed": true
   },
   "outputs": [],
   "source": [
    "t = []\n",
    "for trialId in range(1,9):\n",
    "    i = trialId-1\n",
    "    t.append(Trial(1, trialId))\n",
    "    t[i].readDecoder()  "
   ]
  },
  {
   "cell_type": "code",
   "execution_count": 5,
   "metadata": {},
   "outputs": [],
   "source": [
    "i=0\n",
    "\n",
    "t1 = np.argmax(t[i].decoderFile[:,0]>30)\n",
    "t2 = np.argmax(t[i].decoderFile[:,0]>570)\n",
    "t3 = np.argmax(t[i].decoderFile[:,0]>930)\n",
    "std_pre_h = np.std(t[i].decoderFile[t1:t2,1], axis=0)\n",
    "std_post_h = np.std(t[i].decoderFile[t2:t3,1], axis=0)\n",
    "std_pre_k = np.std(t[i].decoderFile[t1:t2,2], axis=0)\n",
    "std_post_k = np.std(t[i].decoderFile[t2:t3,2], axis=0)"
   ]
  },
  {
   "cell_type": "code",
   "execution_count": null,
   "metadata": {
    "collapsed": true
   },
   "outputs": [],
   "source": []
  },
  {
   "cell_type": "code",
   "execution_count": 12,
   "metadata": {},
   "outputs": [],
   "source": [
    "objects = ('Training Hip', 'Training Knee', 'Testing Hip', 'Testing Knee')\n",
    "y_pos = np.arange(len(objects))\n",
    "performance = [std_pre_h,std_pre_k,std_post_h,std_post_k]\n",
    " \n",
    "plt.bar(y_pos, performance, align='center', alpha=0.5)\n",
    "plt.xticks(y_pos, objects)\n",
    "plt.ylabel('Standard Deviation')\n",
    "\n",
    "plt.show()"
   ]
  }
 ],
 "metadata": {
  "kernelspec": {
   "display_name": "Python 2",
   "language": "python",
   "name": "python2"
  },
  "language_info": {
   "codemirror_mode": {
    "name": "ipython",
    "version": 2
   },
   "file_extension": ".py",
   "mimetype": "text/x-python",
   "name": "python",
   "nbconvert_exporter": "python",
   "pygments_lexer": "ipython2",
   "version": "2.7.13"
  }
 },
 "nbformat": 4,
 "nbformat_minor": 2
}
