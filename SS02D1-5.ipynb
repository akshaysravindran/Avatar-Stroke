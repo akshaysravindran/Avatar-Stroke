{
 "cells": [
  {
   "cell_type": "markdown",
   "metadata": {},
   "source": [
    "# Figures with current data: SS02 Day1-5\n",
    "2017-12-11 "
   ]
  },
  {
   "cell_type": "code",
   "execution_count": 1,
   "metadata": {},
   "outputs": [],
   "source": [
    "%matplotlib qt"
   ]
  },
  {
   "cell_type": "code",
   "execution_count": 2,
   "metadata": {},
   "outputs": [
    {
     "name": "stderr",
     "output_type": "stream",
     "text": [
      "/Applications/anaconda2/envs/pyqt4_for_ploting/lib/python2.7/site-packages/statsmodels/compat/pandas.py:56: FutureWarning: The pandas.core.datetools module is deprecated and will be removed in a future version. Please use the pandas.tseries module instead.\n",
      "  from pandas.core import datetools\n"
     ]
    }
   ],
   "source": [
    "import matplotlib.pyplot as plt\n",
    "import numpy as np\n",
    "import scipy\n",
    "import statsmodels.api as sm \n",
    "from asp.load import Trial"
   ]
  },
  {
   "cell_type": "code",
   "execution_count": 3,
   "metadata": {},
   "outputs": [
    {
     "name": "stderr",
     "output_type": "stream",
     "text": [
      "/Applications/anaconda2/envs/pyqt4_for_ploting/lib/python2.7/site-packages/numpy/lib/function_base.py:3167: RuntimeWarning: invalid value encountered in true_divide\n",
      "  c /= stddev[:, None]\n",
      "/Applications/anaconda2/envs/pyqt4_for_ploting/lib/python2.7/site-packages/numpy/lib/function_base.py:3168: RuntimeWarning: invalid value encountered in true_divide\n",
      "  c /= stddev[None, :]\n"
     ]
    }
   ],
   "source": [
    "totalTrial = 10\n",
    "t = []\n",
    "for trialId in range(1,totalTrial+1):\n",
    "    i = trialId-1\n",
    "    t.append(Trial(2, trialId))\n",
    "    t[i].readDecoder()\n",
    "    t[i].readConductor()\n",
    "    t[i].gaitSegmentation()\n",
    "    t[i].RValueByGaitAllJoint()\n",
    "    t[i].rTrainTestbyGait()"
   ]
  },
  {
   "cell_type": "code",
   "execution_count": 4,
   "metadata": {},
   "outputs": [],
   "source": [
    "signal = []\n",
    "for i in range(len(t)):\n",
    "    signal.append(sm.nonparametric.lowess(t[i].rLeftHipByGait[:,1], t[i].rLeftHipByGait[:,0], frac=0.01))"
   ]
  },
  {
   "cell_type": "markdown",
   "metadata": {},
   "source": [
    "## A figure of all r values in each gait in each trial\n",
    "Each dot is the r-value in one gait cycle"
   ]
  },
  {
   "cell_type": "code",
   "execution_count": 50,
   "metadata": {},
   "outputs": [],
   "source": [
    "fig, axarr = plt.subplots(5,2, figsize=(6,8))\n",
    "# fig.dpi = 200\n",
    "# fig.set_size_inches(600./fig.dpi,800./fig.dpi)\n",
    "\n",
    "for i in range(len(t)):\n",
    "    # remove gaits that were before 30s\n",
    "    firstStep = 0\n",
    "    while signal[i][firstStep,0]<30:\n",
    "        firstStep += 1\n",
    "    \n",
    "    axarr[i/2,i%2].plot(signal[i][firstStep:,0], signal[i][firstStep:,1],'.',markersize=2)\n",
    "    axarr[i/2,i%2].set_xlim([0, 1250])\n",
    "    axarr[i/2,i%2].set_ylim([-1,1])\n",
    "    # a vertical line to mark the beginning of EEG control\n",
    "    bciOnset = 630\n",
    "    axarr[i/2,i%2].plot([bciOnset, bciOnset], axarr[i/2,i%2].get_ylim(), 'k-', lw=2)\n",
    "#     axarr[i/2,i%2].autoscale(enable=True, axis='y', tight=True)    \n",
    "    \n",
    "    # remove the frame\n",
    "    axarr[i/2,i%2].spines['top'].set_visible(False)\n",
    "    axarr[i/2,i%2].spines['right'].set_visible(False)\n",
    "    \n",
    "    axarr[i/2,i%2].grid(b=True, which='major', axis='y')\n",
    "    axarr[i/2,i%2].set_title('Day '+str(i/2+1)+' Trial '+str(i%2+1), fontsize=9)\n",
    "    if i!=8 and i!=9:\n",
    "        axarr[i/2,i%2].set_xticks([])\n",
    "    else:\n",
    "        axarr[i/2,i%2].set_xlabel('Time (sec)')\n",
    "    if i%2==1:\n",
    "        axarr[i/2,i%2].set_yticklabels([])\n",
    "    \n",
    "# fig.subplots_adjust(hspace=0.3, wspace=0.1)    \n",
    "fig.text(0.04, 0.5, 'Performance (r-value)', va='center', rotation='vertical')\n",
    "\n",
    "# plt.draw()\n",
    "fig.show()\n",
    "# fig.savefig('Figures/r_SS02Day1-5.png', dpi=600, format='png', transparent=True)\n"
   ]
  },
  {
   "cell_type": "code",
   "execution_count": 46,
   "metadata": {},
   "outputs": [],
   "source": [
    "plt.close('all')"
   ]
  },
  {
   "cell_type": "markdown",
   "metadata": {},
   "source": [
    "## Compare the average r value changes over sessions\n",
    "\n",
    "Day5 Trial2: stopped walking at 860s to fix the lose ankle goniometer connector"
   ]
  },
  {
   "cell_type": "code",
   "execution_count": 49,
   "metadata": {},
   "outputs": [],
   "source": [
    "fig = plt.figure()\n",
    "for i in range(len(t)):\n",
    "    joint = 3 # left hip\n",
    "    rTrainMean = t[i].rTrainMean[joint]\n",
    "    rTestMean = t[i].rTestMean[joint]\n",
    "    if i==0: # for plotting legend\n",
    "        plt.plot(i+1, rTrainMean, marker='o',color='darkorange', label='Train', linestyle='none')\n",
    "        plt.plot(i+1, rTestMean, marker='o', color='darkorange', markerfacecolor='none',label='Test', linestyle='none')\n",
    "    else:\n",
    "        plt.plot(i+1, rTrainMean, marker='o',color='darkorange', linestyle='none')\n",
    "        plt.plot(i+1, rTestMean, marker='o', color='darkorange', markerfacecolor='none', linestyle='none')\n",
    "   \n",
    "plt.xlabel('Trial (2 per day)')\n",
    "plt.ylabel('Performance (mean r-value)')\n",
    "plt.legend()\n",
    "plt.show()\n",
    "\n",
    "# fig.savefig('Figures/r_SS02Day1-5_across_sessions.png', dpi=600, format='png', transparent=True)"
   ]
  },
  {
   "cell_type": "code",
   "execution_count": 43,
   "metadata": {},
   "outputs": [],
   "source": [
    "rTrainMean = []\n",
    "rTestMean = []\n",
    "joint = 3 # left hip\n",
    "\n",
    "for i in range(len(t)):\n",
    "    rTrainMean.append(t[i].rTrainMean[joint]) \n",
    "    rTestMean.append(t[i].rTestMean[joint]) \n",
    "\n",
    "    \n",
    "fig = plt.figure()\n",
    "plt.plot([x+1 for x in range(len(t))], rTrainMean, marker='o',color='darkorange', linestyle = 'None', label='Train')\n",
    "plt.plot([x+1 for x in range(len(t))], rTestMean, marker='o', color='darkorange', markerfacecolor='none', linestyle = 'None', label='haha')\n",
    "\n",
    "plt.xlabel('Trial (two per day)')\n",
    "plt.ylabel('Performance (mean r-value)')\n",
    "plt.legend()\n",
    "\n",
    "plt.show()"
   ]
  }
 ],
 "metadata": {
  "kernelspec": {
   "display_name": "Python 2",
   "language": "python",
   "name": "python2"
  },
  "language_info": {
   "codemirror_mode": {
    "name": "ipython",
    "version": 2
   },
   "file_extension": ".py",
   "mimetype": "text/x-python",
   "name": "python",
   "nbconvert_exporter": "python",
   "pygments_lexer": "ipython2",
   "version": "2.7.14"
  }
 },
 "nbformat": 4,
 "nbformat_minor": 2
}
